{
 "cells": [
  {
   "cell_type": "code",
   "execution_count": 0,
   "metadata": {
    "application/vnd.databricks.v1+cell": {
     "cellMetadata": {
      "byteLimit": 2048000,
      "rowLimit": 10000
     },
     "inputWidgets": {},
     "nuid": "852d1bff-f7fb-4e3d-bf5a-e736e6e7cc8c",
     "showTitle": false,
     "title": ""
    }
   },
   "outputs": [],
   "source": [
    "#renaming the column\n",
    "import pyspark\n",
    "from pyspark.sql import *\n",
    "from pyspark.sql.functions import *\n",
    "from delta.tables import *\n",
    "from pyspark.sql import SparkSession\n",
    "spark.conf.set('fs.azure.account.key.dev0011insuranceaccount.dfs.core.windows.net', 'DoaxB6QXcYCJB0aEW3REkQ69kSZKBC8hbsoaVzy84mfi+ORxwxD5RPvaQeftrrwkxn8GvKfZ21ew+ASt/TWSqQ==')\n",
    "raw_path='abfss://rawlayer@dev0011insuranceaccount.dfs.core.windows.net/fhinsurance/input/emp_window_data (1).csv'\n",
    "silver_path='abfss://silverlayer@dev0011insuranceaccount.dfs.core.windows.net/fhinsurance/output'\n",
    "sataging_path='abfss://staginglayer@dev0011insuranceaccount.dfs.core.windows.net/fhinsurance/output'\n"
   ]
  },
  {
   "cell_type": "code",
   "execution_count": 0,
   "metadata": {
    "application/vnd.databricks.v1+cell": {
     "cellMetadata": {
      "byteLimit": 2048000,
      "rowLimit": 10000
     },
     "inputWidgets": {},
     "nuid": "2b628132-4b88-4367-ab3f-4ee6a18ea07c",
     "showTitle": false,
     "title": ""
    }
   },
   "outputs": [
    {
     "output_type": "display_data",
     "data": {
      "text/html": [
       "<style scoped>\n",
       "  .table-result-container {\n",
       "    max-height: 300px;\n",
       "    overflow: auto;\n",
       "  }\n",
       "  table, th, td {\n",
       "    border: 1px solid black;\n",
       "    border-collapse: collapse;\n",
       "  }\n",
       "  th, td {\n",
       "    padding: 5px;\n",
       "  }\n",
       "  th {\n",
       "    text-align: left;\n",
       "  }\n",
       "</style><div class='table-result-container'><table class='table-result'><thead style='background-color: white'><tr><th>empid</th><th>empname</th><th>gender</th><th>deptno</th><th>sal</th></tr></thead><tbody><tr><td>121</td><td>rajendra</td><td>M</td><td>10</td><td>50000</td></tr><tr><td>111</td><td>Krishna</td><td>M</td><td>10</td><td>40000</td></tr><tr><td>101</td><td>Prasad</td><td>M</td><td>10</td><td>25000</td></tr><tr><td>106</td><td>viswas</td><td>M</td><td>10</td><td>25000</td></tr><tr><td>116</td><td>kishore</td><td>M</td><td>10</td><td>25000</td></tr><tr><td>107</td><td>akhila</td><td>F</td><td>20</td><td>45000</td></tr><tr><td>102</td><td>Rahul</td><td>M</td><td>20</td><td>30000</td></tr><tr><td>117</td><td>Sravani</td><td>F</td><td>20</td><td>30000</td></tr><tr><td>112</td><td>ahmad</td><td>M</td><td>20</td><td>20000</td></tr><tr><td>103</td><td>aditya</td><td>M</td><td>30</td><td>40000</td></tr><tr><td>118</td><td>siva krishna</td><td>M</td><td>30</td><td>40000</td></tr><tr><td>108</td><td>prajol</td><td>M</td><td>30</td><td>35000</td></tr><tr><td>113</td><td>Anusha</td><td>F</td><td>30</td><td>30000</td></tr><tr><td>109</td><td>venu</td><td>M</td><td>40</td><td>40000</td></tr><tr><td>114</td><td>prasanth</td><td>M</td><td>40</td><td>40000</td></tr><tr><td>104</td><td>Pavani</td><td>F</td><td>40</td><td>20000</td></tr><tr><td>119</td><td>satish</td><td>M</td><td>40</td><td>20000</td></tr><tr><td>105</td><td>anupama</td><td>F</td><td>50</td><td>35000</td></tr><tr><td>120</td><td>Sunitha</td><td>F</td><td>50</td><td>25000</td></tr><tr><td>110</td><td>Sujatha</td><td>F</td><td>50</td><td>20000</td></tr><tr><td>115</td><td>aravind</td><td>M</td><td>50</td><td>20000</td></tr><tr><td>121</td><td>rajendra</td><td>M</td><td>10</td><td>50000</td></tr><tr><td>111</td><td>Krishna</td><td>M</td><td>10</td><td>40000</td></tr><tr><td>101</td><td>Prasad</td><td>M</td><td>10</td><td>25000</td></tr><tr><td>106</td><td>viswas</td><td>M</td><td>10</td><td>25000</td></tr><tr><td>116</td><td>kishore</td><td>M</td><td>10</td><td>25000</td></tr><tr><td>107</td><td>akhila</td><td>F</td><td>20</td><td>45000</td></tr><tr><td>102</td><td>Rahul</td><td>M</td><td>20</td><td>30000</td></tr><tr><td>117</td><td>Sravani</td><td>F</td><td>20</td><td>30000</td></tr><tr><td>112</td><td>ahmad</td><td>M</td><td>20</td><td>20000</td></tr><tr><td>103</td><td>aditya</td><td>M</td><td>30</td><td>40000</td></tr><tr><td>118</td><td>siva krishna</td><td>M</td><td>30</td><td>40000</td></tr><tr><td>108</td><td>prajol</td><td>M</td><td>30</td><td>35000</td></tr><tr><td>113</td><td>Anusha</td><td>F</td><td>30</td><td>30000</td></tr><tr><td>109</td><td>venu</td><td>M</td><td>40</td><td>40000</td></tr><tr><td>114</td><td>prasanth</td><td>M</td><td>40</td><td>40000</td></tr><tr><td>104</td><td>Pavani</td><td>F</td><td>40</td><td>20000</td></tr><tr><td>119</td><td>satish</td><td>M</td><td>40</td><td>20000</td></tr><tr><td>105</td><td>anupama</td><td>F</td><td>50</td><td>35000</td></tr><tr><td>120</td><td>Sunitha</td><td>F</td><td>50</td><td>25000</td></tr><tr><td>110</td><td>Sujatha</td><td>F</td><td>50</td><td>20000</td></tr><tr><td>115</td><td>aravind</td><td>M</td><td>50</td><td>20000</td></tr><tr><td>121</td><td>rajendra</td><td>M</td><td>10</td><td>50000</td></tr><tr><td>111</td><td>Krishna</td><td>M</td><td>10</td><td>40000</td></tr><tr><td>101</td><td>Prasad</td><td>M</td><td>10</td><td>25000</td></tr><tr><td>106</td><td>viswas</td><td>M</td><td>10</td><td>25000</td></tr><tr><td>116</td><td>kishore</td><td>M</td><td>10</td><td>25000</td></tr><tr><td>107</td><td>akhila</td><td>F</td><td>20</td><td>45000</td></tr><tr><td>102</td><td>Rahul</td><td>M</td><td>20</td><td>30000</td></tr><tr><td>117</td><td>Sravani</td><td>F</td><td>20</td><td>30000</td></tr><tr><td>112</td><td>ahmad</td><td>M</td><td>20</td><td>20000</td></tr><tr><td>103</td><td>aditya</td><td>M</td><td>30</td><td>40000</td></tr><tr><td>118</td><td>siva krishna</td><td>M</td><td>30</td><td>40000</td></tr><tr><td>108</td><td>prajol</td><td>M</td><td>30</td><td>35000</td></tr><tr><td>113</td><td>Anusha</td><td>F</td><td>30</td><td>30000</td></tr><tr><td>109</td><td>venu</td><td>M</td><td>40</td><td>40000</td></tr><tr><td>114</td><td>prasanth</td><td>M</td><td>40</td><td>40000</td></tr><tr><td>104</td><td>Pavani</td><td>F</td><td>40</td><td>20000</td></tr><tr><td>119</td><td>satish</td><td>M</td><td>40</td><td>20000</td></tr><tr><td>105</td><td>anupama</td><td>F</td><td>50</td><td>35000</td></tr><tr><td>120</td><td>Sunitha</td><td>F</td><td>50</td><td>25000</td></tr><tr><td>110</td><td>Sujatha</td><td>F</td><td>50</td><td>20000</td></tr><tr><td>115</td><td>aravind</td><td>M</td><td>50</td><td>20000</td></tr><tr><td>121</td><td>rajendra</td><td>M</td><td>10</td><td>50000</td></tr><tr><td>111</td><td>Krishna</td><td>M</td><td>10</td><td>40000</td></tr><tr><td>101</td><td>Prasad</td><td>M</td><td>10</td><td>25000</td></tr><tr><td>106</td><td>viswas</td><td>M</td><td>10</td><td>25000</td></tr><tr><td>116</td><td>kishore</td><td>M</td><td>10</td><td>25000</td></tr><tr><td>107</td><td>akhila</td><td>F</td><td>20</td><td>45000</td></tr><tr><td>102</td><td>Rahul</td><td>M</td><td>20</td><td>30000</td></tr><tr><td>117</td><td>Sravani</td><td>F</td><td>20</td><td>30000</td></tr><tr><td>112</td><td>ahmad</td><td>M</td><td>20</td><td>20000</td></tr><tr><td>103</td><td>aditya</td><td>M</td><td>30</td><td>40000</td></tr><tr><td>118</td><td>siva krishna</td><td>M</td><td>30</td><td>40000</td></tr><tr><td>108</td><td>prajol</td><td>M</td><td>30</td><td>35000</td></tr><tr><td>113</td><td>Anusha</td><td>F</td><td>30</td><td>30000</td></tr><tr><td>109</td><td>venu</td><td>M</td><td>40</td><td>40000</td></tr><tr><td>114</td><td>prasanth</td><td>M</td><td>40</td><td>40000</td></tr><tr><td>104</td><td>Pavani</td><td>F</td><td>40</td><td>20000</td></tr><tr><td>119</td><td>satish</td><td>M</td><td>40</td><td>20000</td></tr><tr><td>105</td><td>anupama</td><td>F</td><td>50</td><td>35000</td></tr><tr><td>120</td><td>Sunitha</td><td>F</td><td>50</td><td>25000</td></tr><tr><td>110</td><td>Sujatha</td><td>F</td><td>50</td><td>20000</td></tr><tr><td>115</td><td>aravind</td><td>M</td><td>50</td><td>20000</td></tr><tr><td>121</td><td>rajendra</td><td>M</td><td>10</td><td>50000</td></tr><tr><td>111</td><td>Krishna</td><td>M</td><td>10</td><td>40000</td></tr><tr><td>101</td><td>Prasad</td><td>M</td><td>10</td><td>25000</td></tr><tr><td>106</td><td>viswas</td><td>M</td><td>10</td><td>25000</td></tr><tr><td>116</td><td>kishore</td><td>M</td><td>10</td><td>25000</td></tr><tr><td>107</td><td>akhila</td><td>F</td><td>20</td><td>45000</td></tr><tr><td>102</td><td>Rahul</td><td>M</td><td>20</td><td>30000</td></tr><tr><td>117</td><td>Sravani</td><td>F</td><td>20</td><td>30000</td></tr><tr><td>112</td><td>ahmad</td><td>M</td><td>20</td><td>20000</td></tr><tr><td>103</td><td>aditya</td><td>M</td><td>30</td><td>40000</td></tr><tr><td>118</td><td>siva krishna</td><td>M</td><td>30</td><td>40000</td></tr><tr><td>108</td><td>prajol</td><td>M</td><td>30</td><td>35000</td></tr><tr><td>113</td><td>Anusha</td><td>F</td><td>30</td><td>30000</td></tr><tr><td>109</td><td>venu</td><td>M</td><td>40</td><td>40000</td></tr><tr><td>114</td><td>prasanth</td><td>M</td><td>40</td><td>40000</td></tr><tr><td>104</td><td>Pavani</td><td>F</td><td>40</td><td>20000</td></tr><tr><td>119</td><td>satish</td><td>M</td><td>40</td><td>20000</td></tr><tr><td>105</td><td>anupama</td><td>F</td><td>50</td><td>35000</td></tr><tr><td>120</td><td>Sunitha</td><td>F</td><td>50</td><td>25000</td></tr><tr><td>110</td><td>Sujatha</td><td>F</td><td>50</td><td>20000</td></tr><tr><td>115</td><td>aravind</td><td>M</td><td>50</td><td>20000</td></tr><tr><td>121</td><td>rajendra</td><td>M</td><td>10</td><td>50000</td></tr><tr><td>111</td><td>Krishna</td><td>M</td><td>10</td><td>40000</td></tr><tr><td>101</td><td>Prasad</td><td>M</td><td>10</td><td>25000</td></tr><tr><td>106</td><td>viswas</td><td>M</td><td>10</td><td>25000</td></tr><tr><td>116</td><td>kishore</td><td>M</td><td>10</td><td>25000</td></tr><tr><td>107</td><td>akhila</td><td>F</td><td>20</td><td>45000</td></tr><tr><td>102</td><td>Rahul</td><td>M</td><td>20</td><td>30000</td></tr><tr><td>117</td><td>Sravani</td><td>F</td><td>20</td><td>30000</td></tr><tr><td>112</td><td>ahmad</td><td>M</td><td>20</td><td>20000</td></tr><tr><td>103</td><td>aditya</td><td>M</td><td>30</td><td>40000</td></tr><tr><td>118</td><td>siva krishna</td><td>M</td><td>30</td><td>40000</td></tr><tr><td>108</td><td>prajol</td><td>M</td><td>30</td><td>35000</td></tr><tr><td>113</td><td>Anusha</td><td>F</td><td>30</td><td>30000</td></tr><tr><td>109</td><td>venu</td><td>M</td><td>40</td><td>40000</td></tr><tr><td>114</td><td>prasanth</td><td>M</td><td>40</td><td>40000</td></tr><tr><td>104</td><td>Pavani</td><td>F</td><td>40</td><td>20000</td></tr><tr><td>119</td><td>satish</td><td>M</td><td>40</td><td>20000</td></tr><tr><td>105</td><td>anupama</td><td>F</td><td>50</td><td>35000</td></tr><tr><td>120</td><td>Sunitha</td><td>F</td><td>50</td><td>25000</td></tr><tr><td>110</td><td>Sujatha</td><td>F</td><td>50</td><td>20000</td></tr><tr><td>115</td><td>aravind</td><td>M</td><td>50</td><td>20000</td></tr><tr><td>121</td><td>rajendra</td><td>M</td><td>10</td><td>50000</td></tr><tr><td>111</td><td>Krishna</td><td>M</td><td>10</td><td>40000</td></tr><tr><td>101</td><td>Prasad</td><td>M</td><td>10</td><td>25000</td></tr><tr><td>106</td><td>viswas</td><td>M</td><td>10</td><td>25000</td></tr><tr><td>116</td><td>kishore</td><td>M</td><td>10</td><td>25000</td></tr><tr><td>107</td><td>akhila</td><td>F</td><td>20</td><td>45000</td></tr><tr><td>102</td><td>Rahul</td><td>M</td><td>20</td><td>30000</td></tr><tr><td>117</td><td>Sravani</td><td>F</td><td>20</td><td>30000</td></tr><tr><td>112</td><td>ahmad</td><td>M</td><td>20</td><td>20000</td></tr><tr><td>103</td><td>aditya</td><td>M</td><td>30</td><td>40000</td></tr><tr><td>118</td><td>siva krishna</td><td>M</td><td>30</td><td>40000</td></tr><tr><td>108</td><td>prajol</td><td>M</td><td>30</td><td>35000</td></tr><tr><td>113</td><td>Anusha</td><td>F</td><td>30</td><td>30000</td></tr><tr><td>109</td><td>venu</td><td>M</td><td>40</td><td>40000</td></tr><tr><td>114</td><td>prasanth</td><td>M</td><td>40</td><td>40000</td></tr><tr><td>104</td><td>Pavani</td><td>F</td><td>40</td><td>20000</td></tr><tr><td>119</td><td>satish</td><td>M</td><td>40</td><td>20000</td></tr><tr><td>105</td><td>anupama</td><td>F</td><td>50</td><td>35000</td></tr><tr><td>120</td><td>Sunitha</td><td>F</td><td>50</td><td>25000</td></tr><tr><td>110</td><td>Sujatha</td><td>F</td><td>50</td><td>20000</td></tr><tr><td>115</td><td>aravind</td><td>M</td><td>50</td><td>20000</td></tr><tr><td>121</td><td>rajendra</td><td>M</td><td>10</td><td>50000</td></tr><tr><td>111</td><td>Krishna</td><td>M</td><td>10</td><td>40000</td></tr><tr><td>101</td><td>Prasad</td><td>M</td><td>10</td><td>25000</td></tr><tr><td>106</td><td>viswas</td><td>M</td><td>10</td><td>25000</td></tr><tr><td>116</td><td>kishore</td><td>M</td><td>10</td><td>25000</td></tr><tr><td>107</td><td>akhila</td><td>F</td><td>20</td><td>45000</td></tr><tr><td>102</td><td>Rahul</td><td>M</td><td>20</td><td>30000</td></tr><tr><td>117</td><td>Sravani</td><td>F</td><td>20</td><td>30000</td></tr><tr><td>112</td><td>ahmad</td><td>M</td><td>20</td><td>20000</td></tr><tr><td>103</td><td>aditya</td><td>M</td><td>30</td><td>40000</td></tr><tr><td>118</td><td>siva krishna</td><td>M</td><td>30</td><td>40000</td></tr><tr><td>108</td><td>prajol</td><td>M</td><td>30</td><td>35000</td></tr><tr><td>113</td><td>Anusha</td><td>F</td><td>30</td><td>30000</td></tr><tr><td>109</td><td>venu</td><td>M</td><td>40</td><td>40000</td></tr><tr><td>114</td><td>prasanth</td><td>M</td><td>40</td><td>40000</td></tr><tr><td>104</td><td>Pavani</td><td>F</td><td>40</td><td>20000</td></tr><tr><td>119</td><td>satish</td><td>M</td><td>40</td><td>20000</td></tr><tr><td>105</td><td>anupama</td><td>F</td><td>50</td><td>35000</td></tr><tr><td>120</td><td>Sunitha</td><td>F</td><td>50</td><td>25000</td></tr><tr><td>110</td><td>Sujatha</td><td>F</td><td>50</td><td>20000</td></tr><tr><td>115</td><td>aravind</td><td>M</td><td>50</td><td>20000</td></tr></tbody></table></div>"
      ]
     },
     "metadata": {
      "application/vnd.databricks.v1+output": {
       "addedWidgets": {},
       "aggData": [],
       "aggError": "",
       "aggOverflow": false,
       "aggSchema": [],
       "aggSeriesLimitReached": false,
       "aggType": "",
       "arguments": {},
       "columnCustomDisplayInfos": {},
       "data": [
        [
         "121",
         "rajendra",
         "M",
         "10",
         "50000"
        ],
        [
         "111",
         "Krishna",
         "M",
         "10",
         "40000"
        ],
        [
         "101",
         "Prasad",
         "M",
         "10",
         "25000"
        ],
        [
         "106",
         "viswas",
         "M",
         "10",
         "25000"
        ],
        [
         "116",
         "kishore",
         "M",
         "10",
         "25000"
        ],
        [
         "107",
         "akhila",
         "F",
         "20",
         "45000"
        ],
        [
         "102",
         "Rahul",
         "M",
         "20",
         "30000"
        ],
        [
         "117",
         "Sravani",
         "F",
         "20",
         "30000"
        ],
        [
         "112",
         "ahmad",
         "M",
         "20",
         "20000"
        ],
        [
         "103",
         "aditya",
         "M",
         "30",
         "40000"
        ],
        [
         "118",
         "siva krishna",
         "M",
         "30",
         "40000"
        ],
        [
         "108",
         "prajol",
         "M",
         "30",
         "35000"
        ],
        [
         "113",
         "Anusha",
         "F",
         "30",
         "30000"
        ],
        [
         "109",
         "venu",
         "M",
         "40",
         "40000"
        ],
        [
         "114",
         "prasanth",
         "M",
         "40",
         "40000"
        ],
        [
         "104",
         "Pavani",
         "F",
         "40",
         "20000"
        ],
        [
         "119",
         "satish",
         "M",
         "40",
         "20000"
        ],
        [
         "105",
         "anupama",
         "F",
         "50",
         "35000"
        ],
        [
         "120",
         "Sunitha",
         "F",
         "50",
         "25000"
        ],
        [
         "110",
         "Sujatha",
         "F",
         "50",
         "20000"
        ],
        [
         "115",
         "aravind",
         "M",
         "50",
         "20000"
        ],
        [
         "121",
         "rajendra",
         "M",
         "10",
         "50000"
        ],
        [
         "111",
         "Krishna",
         "M",
         "10",
         "40000"
        ],
        [
         "101",
         "Prasad",
         "M",
         "10",
         "25000"
        ],
        [
         "106",
         "viswas",
         "M",
         "10",
         "25000"
        ],
        [
         "116",
         "kishore",
         "M",
         "10",
         "25000"
        ],
        [
         "107",
         "akhila",
         "F",
         "20",
         "45000"
        ],
        [
         "102",
         "Rahul",
         "M",
         "20",
         "30000"
        ],
        [
         "117",
         "Sravani",
         "F",
         "20",
         "30000"
        ],
        [
         "112",
         "ahmad",
         "M",
         "20",
         "20000"
        ],
        [
         "103",
         "aditya",
         "M",
         "30",
         "40000"
        ],
        [
         "118",
         "siva krishna",
         "M",
         "30",
         "40000"
        ],
        [
         "108",
         "prajol",
         "M",
         "30",
         "35000"
        ],
        [
         "113",
         "Anusha",
         "F",
         "30",
         "30000"
        ],
        [
         "109",
         "venu",
         "M",
         "40",
         "40000"
        ],
        [
         "114",
         "prasanth",
         "M",
         "40",
         "40000"
        ],
        [
         "104",
         "Pavani",
         "F",
         "40",
         "20000"
        ],
        [
         "119",
         "satish",
         "M",
         "40",
         "20000"
        ],
        [
         "105",
         "anupama",
         "F",
         "50",
         "35000"
        ],
        [
         "120",
         "Sunitha",
         "F",
         "50",
         "25000"
        ],
        [
         "110",
         "Sujatha",
         "F",
         "50",
         "20000"
        ],
        [
         "115",
         "aravind",
         "M",
         "50",
         "20000"
        ],
        [
         "121",
         "rajendra",
         "M",
         "10",
         "50000"
        ],
        [
         "111",
         "Krishna",
         "M",
         "10",
         "40000"
        ],
        [
         "101",
         "Prasad",
         "M",
         "10",
         "25000"
        ],
        [
         "106",
         "viswas",
         "M",
         "10",
         "25000"
        ],
        [
         "116",
         "kishore",
         "M",
         "10",
         "25000"
        ],
        [
         "107",
         "akhila",
         "F",
         "20",
         "45000"
        ],
        [
         "102",
         "Rahul",
         "M",
         "20",
         "30000"
        ],
        [
         "117",
         "Sravani",
         "F",
         "20",
         "30000"
        ],
        [
         "112",
         "ahmad",
         "M",
         "20",
         "20000"
        ],
        [
         "103",
         "aditya",
         "M",
         "30",
         "40000"
        ],
        [
         "118",
         "siva krishna",
         "M",
         "30",
         "40000"
        ],
        [
         "108",
         "prajol",
         "M",
         "30",
         "35000"
        ],
        [
         "113",
         "Anusha",
         "F",
         "30",
         "30000"
        ],
        [
         "109",
         "venu",
         "M",
         "40",
         "40000"
        ],
        [
         "114",
         "prasanth",
         "M",
         "40",
         "40000"
        ],
        [
         "104",
         "Pavani",
         "F",
         "40",
         "20000"
        ],
        [
         "119",
         "satish",
         "M",
         "40",
         "20000"
        ],
        [
         "105",
         "anupama",
         "F",
         "50",
         "35000"
        ],
        [
         "120",
         "Sunitha",
         "F",
         "50",
         "25000"
        ],
        [
         "110",
         "Sujatha",
         "F",
         "50",
         "20000"
        ],
        [
         "115",
         "aravind",
         "M",
         "50",
         "20000"
        ],
        [
         "121",
         "rajendra",
         "M",
         "10",
         "50000"
        ],
        [
         "111",
         "Krishna",
         "M",
         "10",
         "40000"
        ],
        [
         "101",
         "Prasad",
         "M",
         "10",
         "25000"
        ],
        [
         "106",
         "viswas",
         "M",
         "10",
         "25000"
        ],
        [
         "116",
         "kishore",
         "M",
         "10",
         "25000"
        ],
        [
         "107",
         "akhila",
         "F",
         "20",
         "45000"
        ],
        [
         "102",
         "Rahul",
         "M",
         "20",
         "30000"
        ],
        [
         "117",
         "Sravani",
         "F",
         "20",
         "30000"
        ],
        [
         "112",
         "ahmad",
         "M",
         "20",
         "20000"
        ],
        [
         "103",
         "aditya",
         "M",
         "30",
         "40000"
        ],
        [
         "118",
         "siva krishna",
         "M",
         "30",
         "40000"
        ],
        [
         "108",
         "prajol",
         "M",
         "30",
         "35000"
        ],
        [
         "113",
         "Anusha",
         "F",
         "30",
         "30000"
        ],
        [
         "109",
         "venu",
         "M",
         "40",
         "40000"
        ],
        [
         "114",
         "prasanth",
         "M",
         "40",
         "40000"
        ],
        [
         "104",
         "Pavani",
         "F",
         "40",
         "20000"
        ],
        [
         "119",
         "satish",
         "M",
         "40",
         "20000"
        ],
        [
         "105",
         "anupama",
         "F",
         "50",
         "35000"
        ],
        [
         "120",
         "Sunitha",
         "F",
         "50",
         "25000"
        ],
        [
         "110",
         "Sujatha",
         "F",
         "50",
         "20000"
        ],
        [
         "115",
         "aravind",
         "M",
         "50",
         "20000"
        ],
        [
         "121",
         "rajendra",
         "M",
         "10",
         "50000"
        ],
        [
         "111",
         "Krishna",
         "M",
         "10",
         "40000"
        ],
        [
         "101",
         "Prasad",
         "M",
         "10",
         "25000"
        ],
        [
         "106",
         "viswas",
         "M",
         "10",
         "25000"
        ],
        [
         "116",
         "kishore",
         "M",
         "10",
         "25000"
        ],
        [
         "107",
         "akhila",
         "F",
         "20",
         "45000"
        ],
        [
         "102",
         "Rahul",
         "M",
         "20",
         "30000"
        ],
        [
         "117",
         "Sravani",
         "F",
         "20",
         "30000"
        ],
        [
         "112",
         "ahmad",
         "M",
         "20",
         "20000"
        ],
        [
         "103",
         "aditya",
         "M",
         "30",
         "40000"
        ],
        [
         "118",
         "siva krishna",
         "M",
         "30",
         "40000"
        ],
        [
         "108",
         "prajol",
         "M",
         "30",
         "35000"
        ],
        [
         "113",
         "Anusha",
         "F",
         "30",
         "30000"
        ],
        [
         "109",
         "venu",
         "M",
         "40",
         "40000"
        ],
        [
         "114",
         "prasanth",
         "M",
         "40",
         "40000"
        ],
        [
         "104",
         "Pavani",
         "F",
         "40",
         "20000"
        ],
        [
         "119",
         "satish",
         "M",
         "40",
         "20000"
        ],
        [
         "105",
         "anupama",
         "F",
         "50",
         "35000"
        ],
        [
         "120",
         "Sunitha",
         "F",
         "50",
         "25000"
        ],
        [
         "110",
         "Sujatha",
         "F",
         "50",
         "20000"
        ],
        [
         "115",
         "aravind",
         "M",
         "50",
         "20000"
        ],
        [
         "121",
         "rajendra",
         "M",
         "10",
         "50000"
        ],
        [
         "111",
         "Krishna",
         "M",
         "10",
         "40000"
        ],
        [
         "101",
         "Prasad",
         "M",
         "10",
         "25000"
        ],
        [
         "106",
         "viswas",
         "M",
         "10",
         "25000"
        ],
        [
         "116",
         "kishore",
         "M",
         "10",
         "25000"
        ],
        [
         "107",
         "akhila",
         "F",
         "20",
         "45000"
        ],
        [
         "102",
         "Rahul",
         "M",
         "20",
         "30000"
        ],
        [
         "117",
         "Sravani",
         "F",
         "20",
         "30000"
        ],
        [
         "112",
         "ahmad",
         "M",
         "20",
         "20000"
        ],
        [
         "103",
         "aditya",
         "M",
         "30",
         "40000"
        ],
        [
         "118",
         "siva krishna",
         "M",
         "30",
         "40000"
        ],
        [
         "108",
         "prajol",
         "M",
         "30",
         "35000"
        ],
        [
         "113",
         "Anusha",
         "F",
         "30",
         "30000"
        ],
        [
         "109",
         "venu",
         "M",
         "40",
         "40000"
        ],
        [
         "114",
         "prasanth",
         "M",
         "40",
         "40000"
        ],
        [
         "104",
         "Pavani",
         "F",
         "40",
         "20000"
        ],
        [
         "119",
         "satish",
         "M",
         "40",
         "20000"
        ],
        [
         "105",
         "anupama",
         "F",
         "50",
         "35000"
        ],
        [
         "120",
         "Sunitha",
         "F",
         "50",
         "25000"
        ],
        [
         "110",
         "Sujatha",
         "F",
         "50",
         "20000"
        ],
        [
         "115",
         "aravind",
         "M",
         "50",
         "20000"
        ],
        [
         "121",
         "rajendra",
         "M",
         "10",
         "50000"
        ],
        [
         "111",
         "Krishna",
         "M",
         "10",
         "40000"
        ],
        [
         "101",
         "Prasad",
         "M",
         "10",
         "25000"
        ],
        [
         "106",
         "viswas",
         "M",
         "10",
         "25000"
        ],
        [
         "116",
         "kishore",
         "M",
         "10",
         "25000"
        ],
        [
         "107",
         "akhila",
         "F",
         "20",
         "45000"
        ],
        [
         "102",
         "Rahul",
         "M",
         "20",
         "30000"
        ],
        [
         "117",
         "Sravani",
         "F",
         "20",
         "30000"
        ],
        [
         "112",
         "ahmad",
         "M",
         "20",
         "20000"
        ],
        [
         "103",
         "aditya",
         "M",
         "30",
         "40000"
        ],
        [
         "118",
         "siva krishna",
         "M",
         "30",
         "40000"
        ],
        [
         "108",
         "prajol",
         "M",
         "30",
         "35000"
        ],
        [
         "113",
         "Anusha",
         "F",
         "30",
         "30000"
        ],
        [
         "109",
         "venu",
         "M",
         "40",
         "40000"
        ],
        [
         "114",
         "prasanth",
         "M",
         "40",
         "40000"
        ],
        [
         "104",
         "Pavani",
         "F",
         "40",
         "20000"
        ],
        [
         "119",
         "satish",
         "M",
         "40",
         "20000"
        ],
        [
         "105",
         "anupama",
         "F",
         "50",
         "35000"
        ],
        [
         "120",
         "Sunitha",
         "F",
         "50",
         "25000"
        ],
        [
         "110",
         "Sujatha",
         "F",
         "50",
         "20000"
        ],
        [
         "115",
         "aravind",
         "M",
         "50",
         "20000"
        ],
        [
         "121",
         "rajendra",
         "M",
         "10",
         "50000"
        ],
        [
         "111",
         "Krishna",
         "M",
         "10",
         "40000"
        ],
        [
         "101",
         "Prasad",
         "M",
         "10",
         "25000"
        ],
        [
         "106",
         "viswas",
         "M",
         "10",
         "25000"
        ],
        [
         "116",
         "kishore",
         "M",
         "10",
         "25000"
        ],
        [
         "107",
         "akhila",
         "F",
         "20",
         "45000"
        ],
        [
         "102",
         "Rahul",
         "M",
         "20",
         "30000"
        ],
        [
         "117",
         "Sravani",
         "F",
         "20",
         "30000"
        ],
        [
         "112",
         "ahmad",
         "M",
         "20",
         "20000"
        ],
        [
         "103",
         "aditya",
         "M",
         "30",
         "40000"
        ],
        [
         "118",
         "siva krishna",
         "M",
         "30",
         "40000"
        ],
        [
         "108",
         "prajol",
         "M",
         "30",
         "35000"
        ],
        [
         "113",
         "Anusha",
         "F",
         "30",
         "30000"
        ],
        [
         "109",
         "venu",
         "M",
         "40",
         "40000"
        ],
        [
         "114",
         "prasanth",
         "M",
         "40",
         "40000"
        ],
        [
         "104",
         "Pavani",
         "F",
         "40",
         "20000"
        ],
        [
         "119",
         "satish",
         "M",
         "40",
         "20000"
        ],
        [
         "105",
         "anupama",
         "F",
         "50",
         "35000"
        ],
        [
         "120",
         "Sunitha",
         "F",
         "50",
         "25000"
        ],
        [
         "110",
         "Sujatha",
         "F",
         "50",
         "20000"
        ],
        [
         "115",
         "aravind",
         "M",
         "50",
         "20000"
        ]
       ],
       "datasetInfos": [],
       "dbfsResultPath": null,
       "isJsonSchema": true,
       "metadata": {},
       "overflow": false,
       "plotOptions": {
        "customPlotOptions": {},
        "displayType": "table",
        "pivotAggregation": null,
        "pivotColumns": null,
        "xColumns": null,
        "yColumns": null
       },
       "removedWidgets": [],
       "schema": [
        {
         "metadata": "{}",
         "name": "empid",
         "type": "\"string\""
        },
        {
         "metadata": "{}",
         "name": "empname",
         "type": "\"string\""
        },
        {
         "metadata": "{}",
         "name": "gender",
         "type": "\"string\""
        },
        {
         "metadata": "{}",
         "name": "deptno",
         "type": "\"string\""
        },
        {
         "metadata": "{}",
         "name": "sal",
         "type": "\"string\""
        }
       ],
       "type": "table"
      }
     },
     "output_type": "display_data"
    }
   ],
   "source": [
    "source_df=spark.sql('select * from hive_metastore.default.fthinsurance_customer_detail')\n",
    "display(source_df)"
   ]
  },
  {
   "cell_type": "code",
   "execution_count": 0,
   "metadata": {
    "application/vnd.databricks.v1+cell": {
     "cellMetadata": {
      "byteLimit": 2048000,
      "rowLimit": 10000
     },
     "inputWidgets": {},
     "nuid": "07c6f159-e9e9-4d25-af29-ff9f72fbcc6a",
     "showTitle": false,
     "title": ""
    }
   },
   "outputs": [
    {
     "output_type": "display_data",
     "data": {
      "text/html": [
       "<style scoped>\n",
       "  .table-result-container {\n",
       "    max-height: 300px;\n",
       "    overflow: auto;\n",
       "  }\n",
       "  table, th, td {\n",
       "    border: 1px solid black;\n",
       "    border-collapse: collapse;\n",
       "  }\n",
       "  th, td {\n",
       "    padding: 5px;\n",
       "  }\n",
       "  th {\n",
       "    text-align: left;\n",
       "  }\n",
       "</style><div class='table-result-container'><table class='table-result'><thead style='background-color: white'><tr><th>old_column_names</th><th>new_columns_name</th></tr></thead><tbody><tr><td>index</td><td>policy_index</td></tr><tr><td>customerid</td><td>userid</td></tr><tr><td>firstname</td><td>customer_firstname</td></tr><tr><td>lastname</td><td>customer_lastname</td></tr><tr><td>empname</td><td>employee_name</td></tr><tr><td>gender</td><td>empgender</td></tr><tr><td>sal</td><td>Salary</td></tr><tr><td>sal</td><td>Salary</td></tr><tr><td>id</td><td>row_id</td></tr><tr><td>id</td><td>row_id</td></tr><tr><td>empid</td><td>id</td></tr></tbody></table></div>"
      ]
     },
     "metadata": {
      "application/vnd.databricks.v1+output": {
       "addedWidgets": {},
       "aggData": [],
       "aggError": "",
       "aggOverflow": false,
       "aggSchema": [],
       "aggSeriesLimitReached": false,
       "aggType": "",
       "arguments": {},
       "columnCustomDisplayInfos": {},
       "data": [
        [
         "index",
         "policy_index"
        ],
        [
         "customerid",
         "userid"
        ],
        [
         "firstname",
         "customer_firstname"
        ],
        [
         "lastname",
         "customer_lastname"
        ],
        [
         "empname",
         "employee_name"
        ],
        [
         "gender",
         "empgender"
        ],
        [
         "sal",
         "Salary"
        ],
        [
         "sal",
         "Salary"
        ],
        [
         "id",
         "row_id"
        ],
        [
         "id",
         "row_id"
        ],
        [
         "empid",
         "id"
        ]
       ],
       "datasetInfos": [],
       "dbfsResultPath": null,
       "isJsonSchema": true,
       "metadata": {},
       "overflow": false,
       "plotOptions": {
        "customPlotOptions": {},
        "displayType": "table",
        "pivotAggregation": null,
        "pivotColumns": null,
        "xColumns": null,
        "yColumns": null
       },
       "removedWidgets": [],
       "schema": [
        {
         "metadata": "{}",
         "name": "old_column_names",
         "type": "\"string\""
        },
        {
         "metadata": "{}",
         "name": "new_columns_name",
         "type": "\"string\""
        }
       ],
       "type": "table"
      }
     },
     "output_type": "display_data"
    },
    {
     "output_type": "stream",
     "name": "stdout",
     "output_type": "stream",
     "text": [
      "[Row(old_column_names='index', new_columns_name='policy_index'), Row(old_column_names='customerid', new_columns_name='userid'), Row(old_column_names='firstname', new_columns_name='customer_firstname'), Row(old_column_names='lastname', new_columns_name='customer_lastname'), Row(old_column_names='empname', new_columns_name='employee_name'), Row(old_column_names='gender', new_columns_name='empgender'), Row(old_column_names='sal', new_columns_name='Salary'), Row(old_column_names='sal', new_columns_name='Salary'), Row(old_column_names='id', new_columns_name='row_id'), Row(old_column_names='id', new_columns_name='row_id'), Row(old_column_names='empid', new_columns_name='id')]\n"
     ]
    }
   ],
   "source": [
    "##here go to the ctlog select data and upload a csv file containg chane in names as olde name, new names column\n",
    "mapping_df=spark.sql('select * from devinsurance.default.column_mapping_table')\n",
    "rename_data=mapping_df.collect()\n",
    "display(mapping_df)\n",
    "print(rename_data)"
   ]
  },
  {
   "cell_type": "code",
   "execution_count": 0,
   "metadata": {
    "application/vnd.databricks.v1+cell": {
     "cellMetadata": {
      "byteLimit": 2048000,
      "rowLimit": 10000
     },
     "inputWidgets": {},
     "nuid": "0febf05d-e227-4c22-b1cf-b35f6629649f",
     "showTitle": false,
     "title": ""
    }
   },
   "outputs": [
    {
     "output_type": "stream",
     "name": "stdout",
     "output_type": "stream",
     "text": [
      "['empname AS employee_name', 'gender AS empgender', 'sal AS Salary', 'sal AS Salary', 'empid AS id']\n"
     ]
    }
   ],
   "source": [
    "def rename_columns(source_df, rename_data):\n",
    "    source_df.createOrReplaceTempView('temp_table')\n",
    "    # Use column_mapping_list directly instead of column_mapping_table\n",
    "    # Correct the variable name from sql_satement to sql_statement\n",
    "    sql_statement = []\n",
    "    for row in rename_data:\n",
    "        old_column_name = row['old_column_names']\n",
    "        new_column_name = row['new_columns_name']\n",
    "        if old_column_name in source_df.columns:\n",
    "            sql_statement.append(f\"{old_column_name} AS {new_column_name}\")\n",
    "    print(sql_statement)\n",
    "    if sql_statement:\n",
    "        # Add a space after 'select' and before 'from'\n",
    "        sql_query = f\"SELECT {','.join(sql_statement)} FROM temp_table\"\n",
    "        renamed_df = spark.sql(sql_query)\n",
    "        return renamed_df\n",
    "\n",
    "# Assuming source_df and rename_data are defined elsewhere in your code\n",
    "final_renamed_df = rename_columns(source_df, rename_data)\n",
    "\n",
    "\n",
    "\n",
    "\n"
   ]
  },
  {
   "cell_type": "code",
   "execution_count": 0,
   "metadata": {
    "application/vnd.databricks.v1+cell": {
     "cellMetadata": {
      "byteLimit": 2048000,
      "rowLimit": 10000
     },
     "inputWidgets": {},
     "nuid": "4994f9ff-edce-4926-a75b-88bfd3c8519b",
     "showTitle": false,
     "title": ""
    }
   },
   "outputs": [
    {
     "output_type": "display_data",
     "data": {
      "text/html": [
       "<style scoped>\n",
       "  .table-result-container {\n",
       "    max-height: 300px;\n",
       "    overflow: auto;\n",
       "  }\n",
       "  table, th, td {\n",
       "    border: 1px solid black;\n",
       "    border-collapse: collapse;\n",
       "  }\n",
       "  th, td {\n",
       "    padding: 5px;\n",
       "  }\n",
       "  th {\n",
       "    text-align: left;\n",
       "  }\n",
       "</style><div class='table-result-container'><table class='table-result'><thead style='background-color: white'><tr><th>employee_name</th><th>empgender</th><th>Salary</th><th>Salary</th><th>id</th></tr></thead><tbody><tr><td>rajendra</td><td>M</td><td>50000</td><td>50000</td><td>121</td></tr><tr><td>Krishna</td><td>M</td><td>40000</td><td>40000</td><td>111</td></tr><tr><td>Prasad</td><td>M</td><td>25000</td><td>25000</td><td>101</td></tr><tr><td>viswas</td><td>M</td><td>25000</td><td>25000</td><td>106</td></tr><tr><td>kishore</td><td>M</td><td>25000</td><td>25000</td><td>116</td></tr><tr><td>akhila</td><td>F</td><td>45000</td><td>45000</td><td>107</td></tr><tr><td>Rahul</td><td>M</td><td>30000</td><td>30000</td><td>102</td></tr><tr><td>Sravani</td><td>F</td><td>30000</td><td>30000</td><td>117</td></tr><tr><td>ahmad</td><td>M</td><td>20000</td><td>20000</td><td>112</td></tr><tr><td>aditya</td><td>M</td><td>40000</td><td>40000</td><td>103</td></tr><tr><td>siva krishna</td><td>M</td><td>40000</td><td>40000</td><td>118</td></tr><tr><td>prajol</td><td>M</td><td>35000</td><td>35000</td><td>108</td></tr><tr><td>Anusha</td><td>F</td><td>30000</td><td>30000</td><td>113</td></tr><tr><td>venu</td><td>M</td><td>40000</td><td>40000</td><td>109</td></tr><tr><td>prasanth</td><td>M</td><td>40000</td><td>40000</td><td>114</td></tr><tr><td>Pavani</td><td>F</td><td>20000</td><td>20000</td><td>104</td></tr><tr><td>satish</td><td>M</td><td>20000</td><td>20000</td><td>119</td></tr><tr><td>anupama</td><td>F</td><td>35000</td><td>35000</td><td>105</td></tr><tr><td>Sunitha</td><td>F</td><td>25000</td><td>25000</td><td>120</td></tr><tr><td>Sujatha</td><td>F</td><td>20000</td><td>20000</td><td>110</td></tr><tr><td>aravind</td><td>M</td><td>20000</td><td>20000</td><td>115</td></tr><tr><td>rajendra</td><td>M</td><td>50000</td><td>50000</td><td>121</td></tr><tr><td>Krishna</td><td>M</td><td>40000</td><td>40000</td><td>111</td></tr><tr><td>Prasad</td><td>M</td><td>25000</td><td>25000</td><td>101</td></tr><tr><td>viswas</td><td>M</td><td>25000</td><td>25000</td><td>106</td></tr><tr><td>kishore</td><td>M</td><td>25000</td><td>25000</td><td>116</td></tr><tr><td>akhila</td><td>F</td><td>45000</td><td>45000</td><td>107</td></tr><tr><td>Rahul</td><td>M</td><td>30000</td><td>30000</td><td>102</td></tr><tr><td>Sravani</td><td>F</td><td>30000</td><td>30000</td><td>117</td></tr><tr><td>ahmad</td><td>M</td><td>20000</td><td>20000</td><td>112</td></tr><tr><td>aditya</td><td>M</td><td>40000</td><td>40000</td><td>103</td></tr><tr><td>siva krishna</td><td>M</td><td>40000</td><td>40000</td><td>118</td></tr><tr><td>prajol</td><td>M</td><td>35000</td><td>35000</td><td>108</td></tr><tr><td>Anusha</td><td>F</td><td>30000</td><td>30000</td><td>113</td></tr><tr><td>venu</td><td>M</td><td>40000</td><td>40000</td><td>109</td></tr><tr><td>prasanth</td><td>M</td><td>40000</td><td>40000</td><td>114</td></tr><tr><td>Pavani</td><td>F</td><td>20000</td><td>20000</td><td>104</td></tr><tr><td>satish</td><td>M</td><td>20000</td><td>20000</td><td>119</td></tr><tr><td>anupama</td><td>F</td><td>35000</td><td>35000</td><td>105</td></tr><tr><td>Sunitha</td><td>F</td><td>25000</td><td>25000</td><td>120</td></tr><tr><td>Sujatha</td><td>F</td><td>20000</td><td>20000</td><td>110</td></tr><tr><td>aravind</td><td>M</td><td>20000</td><td>20000</td><td>115</td></tr><tr><td>rajendra</td><td>M</td><td>50000</td><td>50000</td><td>121</td></tr><tr><td>Krishna</td><td>M</td><td>40000</td><td>40000</td><td>111</td></tr><tr><td>Prasad</td><td>M</td><td>25000</td><td>25000</td><td>101</td></tr><tr><td>viswas</td><td>M</td><td>25000</td><td>25000</td><td>106</td></tr><tr><td>kishore</td><td>M</td><td>25000</td><td>25000</td><td>116</td></tr><tr><td>akhila</td><td>F</td><td>45000</td><td>45000</td><td>107</td></tr><tr><td>Rahul</td><td>M</td><td>30000</td><td>30000</td><td>102</td></tr><tr><td>Sravani</td><td>F</td><td>30000</td><td>30000</td><td>117</td></tr><tr><td>ahmad</td><td>M</td><td>20000</td><td>20000</td><td>112</td></tr><tr><td>aditya</td><td>M</td><td>40000</td><td>40000</td><td>103</td></tr><tr><td>siva krishna</td><td>M</td><td>40000</td><td>40000</td><td>118</td></tr><tr><td>prajol</td><td>M</td><td>35000</td><td>35000</td><td>108</td></tr><tr><td>Anusha</td><td>F</td><td>30000</td><td>30000</td><td>113</td></tr><tr><td>venu</td><td>M</td><td>40000</td><td>40000</td><td>109</td></tr><tr><td>prasanth</td><td>M</td><td>40000</td><td>40000</td><td>114</td></tr><tr><td>Pavani</td><td>F</td><td>20000</td><td>20000</td><td>104</td></tr><tr><td>satish</td><td>M</td><td>20000</td><td>20000</td><td>119</td></tr><tr><td>anupama</td><td>F</td><td>35000</td><td>35000</td><td>105</td></tr><tr><td>Sunitha</td><td>F</td><td>25000</td><td>25000</td><td>120</td></tr><tr><td>Sujatha</td><td>F</td><td>20000</td><td>20000</td><td>110</td></tr><tr><td>aravind</td><td>M</td><td>20000</td><td>20000</td><td>115</td></tr><tr><td>rajendra</td><td>M</td><td>50000</td><td>50000</td><td>121</td></tr><tr><td>Krishna</td><td>M</td><td>40000</td><td>40000</td><td>111</td></tr><tr><td>Prasad</td><td>M</td><td>25000</td><td>25000</td><td>101</td></tr><tr><td>viswas</td><td>M</td><td>25000</td><td>25000</td><td>106</td></tr><tr><td>kishore</td><td>M</td><td>25000</td><td>25000</td><td>116</td></tr><tr><td>akhila</td><td>F</td><td>45000</td><td>45000</td><td>107</td></tr><tr><td>Rahul</td><td>M</td><td>30000</td><td>30000</td><td>102</td></tr><tr><td>Sravani</td><td>F</td><td>30000</td><td>30000</td><td>117</td></tr><tr><td>ahmad</td><td>M</td><td>20000</td><td>20000</td><td>112</td></tr><tr><td>aditya</td><td>M</td><td>40000</td><td>40000</td><td>103</td></tr><tr><td>siva krishna</td><td>M</td><td>40000</td><td>40000</td><td>118</td></tr><tr><td>prajol</td><td>M</td><td>35000</td><td>35000</td><td>108</td></tr><tr><td>Anusha</td><td>F</td><td>30000</td><td>30000</td><td>113</td></tr><tr><td>venu</td><td>M</td><td>40000</td><td>40000</td><td>109</td></tr><tr><td>prasanth</td><td>M</td><td>40000</td><td>40000</td><td>114</td></tr><tr><td>Pavani</td><td>F</td><td>20000</td><td>20000</td><td>104</td></tr><tr><td>satish</td><td>M</td><td>20000</td><td>20000</td><td>119</td></tr><tr><td>anupama</td><td>F</td><td>35000</td><td>35000</td><td>105</td></tr><tr><td>Sunitha</td><td>F</td><td>25000</td><td>25000</td><td>120</td></tr><tr><td>Sujatha</td><td>F</td><td>20000</td><td>20000</td><td>110</td></tr><tr><td>aravind</td><td>M</td><td>20000</td><td>20000</td><td>115</td></tr><tr><td>rajendra</td><td>M</td><td>50000</td><td>50000</td><td>121</td></tr><tr><td>Krishna</td><td>M</td><td>40000</td><td>40000</td><td>111</td></tr><tr><td>Prasad</td><td>M</td><td>25000</td><td>25000</td><td>101</td></tr><tr><td>viswas</td><td>M</td><td>25000</td><td>25000</td><td>106</td></tr><tr><td>kishore</td><td>M</td><td>25000</td><td>25000</td><td>116</td></tr><tr><td>akhila</td><td>F</td><td>45000</td><td>45000</td><td>107</td></tr><tr><td>Rahul</td><td>M</td><td>30000</td><td>30000</td><td>102</td></tr><tr><td>Sravani</td><td>F</td><td>30000</td><td>30000</td><td>117</td></tr><tr><td>ahmad</td><td>M</td><td>20000</td><td>20000</td><td>112</td></tr><tr><td>aditya</td><td>M</td><td>40000</td><td>40000</td><td>103</td></tr><tr><td>siva krishna</td><td>M</td><td>40000</td><td>40000</td><td>118</td></tr><tr><td>prajol</td><td>M</td><td>35000</td><td>35000</td><td>108</td></tr><tr><td>Anusha</td><td>F</td><td>30000</td><td>30000</td><td>113</td></tr><tr><td>venu</td><td>M</td><td>40000</td><td>40000</td><td>109</td></tr><tr><td>prasanth</td><td>M</td><td>40000</td><td>40000</td><td>114</td></tr><tr><td>Pavani</td><td>F</td><td>20000</td><td>20000</td><td>104</td></tr><tr><td>satish</td><td>M</td><td>20000</td><td>20000</td><td>119</td></tr><tr><td>anupama</td><td>F</td><td>35000</td><td>35000</td><td>105</td></tr><tr><td>Sunitha</td><td>F</td><td>25000</td><td>25000</td><td>120</td></tr><tr><td>Sujatha</td><td>F</td><td>20000</td><td>20000</td><td>110</td></tr><tr><td>aravind</td><td>M</td><td>20000</td><td>20000</td><td>115</td></tr><tr><td>rajendra</td><td>M</td><td>50000</td><td>50000</td><td>121</td></tr><tr><td>Krishna</td><td>M</td><td>40000</td><td>40000</td><td>111</td></tr><tr><td>Prasad</td><td>M</td><td>25000</td><td>25000</td><td>101</td></tr><tr><td>viswas</td><td>M</td><td>25000</td><td>25000</td><td>106</td></tr><tr><td>kishore</td><td>M</td><td>25000</td><td>25000</td><td>116</td></tr><tr><td>akhila</td><td>F</td><td>45000</td><td>45000</td><td>107</td></tr><tr><td>Rahul</td><td>M</td><td>30000</td><td>30000</td><td>102</td></tr><tr><td>Sravani</td><td>F</td><td>30000</td><td>30000</td><td>117</td></tr><tr><td>ahmad</td><td>M</td><td>20000</td><td>20000</td><td>112</td></tr><tr><td>aditya</td><td>M</td><td>40000</td><td>40000</td><td>103</td></tr><tr><td>siva krishna</td><td>M</td><td>40000</td><td>40000</td><td>118</td></tr><tr><td>prajol</td><td>M</td><td>35000</td><td>35000</td><td>108</td></tr><tr><td>Anusha</td><td>F</td><td>30000</td><td>30000</td><td>113</td></tr><tr><td>venu</td><td>M</td><td>40000</td><td>40000</td><td>109</td></tr><tr><td>prasanth</td><td>M</td><td>40000</td><td>40000</td><td>114</td></tr><tr><td>Pavani</td><td>F</td><td>20000</td><td>20000</td><td>104</td></tr><tr><td>satish</td><td>M</td><td>20000</td><td>20000</td><td>119</td></tr><tr><td>anupama</td><td>F</td><td>35000</td><td>35000</td><td>105</td></tr><tr><td>Sunitha</td><td>F</td><td>25000</td><td>25000</td><td>120</td></tr><tr><td>Sujatha</td><td>F</td><td>20000</td><td>20000</td><td>110</td></tr><tr><td>aravind</td><td>M</td><td>20000</td><td>20000</td><td>115</td></tr><tr><td>rajendra</td><td>M</td><td>50000</td><td>50000</td><td>121</td></tr><tr><td>Krishna</td><td>M</td><td>40000</td><td>40000</td><td>111</td></tr><tr><td>Prasad</td><td>M</td><td>25000</td><td>25000</td><td>101</td></tr><tr><td>viswas</td><td>M</td><td>25000</td><td>25000</td><td>106</td></tr><tr><td>kishore</td><td>M</td><td>25000</td><td>25000</td><td>116</td></tr><tr><td>akhila</td><td>F</td><td>45000</td><td>45000</td><td>107</td></tr><tr><td>Rahul</td><td>M</td><td>30000</td><td>30000</td><td>102</td></tr><tr><td>Sravani</td><td>F</td><td>30000</td><td>30000</td><td>117</td></tr><tr><td>ahmad</td><td>M</td><td>20000</td><td>20000</td><td>112</td></tr><tr><td>aditya</td><td>M</td><td>40000</td><td>40000</td><td>103</td></tr><tr><td>siva krishna</td><td>M</td><td>40000</td><td>40000</td><td>118</td></tr><tr><td>prajol</td><td>M</td><td>35000</td><td>35000</td><td>108</td></tr><tr><td>Anusha</td><td>F</td><td>30000</td><td>30000</td><td>113</td></tr><tr><td>venu</td><td>M</td><td>40000</td><td>40000</td><td>109</td></tr><tr><td>prasanth</td><td>M</td><td>40000</td><td>40000</td><td>114</td></tr><tr><td>Pavani</td><td>F</td><td>20000</td><td>20000</td><td>104</td></tr><tr><td>satish</td><td>M</td><td>20000</td><td>20000</td><td>119</td></tr><tr><td>anupama</td><td>F</td><td>35000</td><td>35000</td><td>105</td></tr><tr><td>Sunitha</td><td>F</td><td>25000</td><td>25000</td><td>120</td></tr><tr><td>Sujatha</td><td>F</td><td>20000</td><td>20000</td><td>110</td></tr><tr><td>aravind</td><td>M</td><td>20000</td><td>20000</td><td>115</td></tr><tr><td>rajendra</td><td>M</td><td>50000</td><td>50000</td><td>121</td></tr><tr><td>Krishna</td><td>M</td><td>40000</td><td>40000</td><td>111</td></tr><tr><td>Prasad</td><td>M</td><td>25000</td><td>25000</td><td>101</td></tr><tr><td>viswas</td><td>M</td><td>25000</td><td>25000</td><td>106</td></tr><tr><td>kishore</td><td>M</td><td>25000</td><td>25000</td><td>116</td></tr><tr><td>akhila</td><td>F</td><td>45000</td><td>45000</td><td>107</td></tr><tr><td>Rahul</td><td>M</td><td>30000</td><td>30000</td><td>102</td></tr><tr><td>Sravani</td><td>F</td><td>30000</td><td>30000</td><td>117</td></tr><tr><td>ahmad</td><td>M</td><td>20000</td><td>20000</td><td>112</td></tr><tr><td>aditya</td><td>M</td><td>40000</td><td>40000</td><td>103</td></tr><tr><td>siva krishna</td><td>M</td><td>40000</td><td>40000</td><td>118</td></tr><tr><td>prajol</td><td>M</td><td>35000</td><td>35000</td><td>108</td></tr><tr><td>Anusha</td><td>F</td><td>30000</td><td>30000</td><td>113</td></tr><tr><td>venu</td><td>M</td><td>40000</td><td>40000</td><td>109</td></tr><tr><td>prasanth</td><td>M</td><td>40000</td><td>40000</td><td>114</td></tr><tr><td>Pavani</td><td>F</td><td>20000</td><td>20000</td><td>104</td></tr><tr><td>satish</td><td>M</td><td>20000</td><td>20000</td><td>119</td></tr><tr><td>anupama</td><td>F</td><td>35000</td><td>35000</td><td>105</td></tr><tr><td>Sunitha</td><td>F</td><td>25000</td><td>25000</td><td>120</td></tr><tr><td>Sujatha</td><td>F</td><td>20000</td><td>20000</td><td>110</td></tr><tr><td>aravind</td><td>M</td><td>20000</td><td>20000</td><td>115</td></tr></tbody></table></div>"
      ]
     },
     "metadata": {
      "application/vnd.databricks.v1+output": {
       "addedWidgets": {},
       "aggData": [],
       "aggError": "",
       "aggOverflow": false,
       "aggSchema": [],
       "aggSeriesLimitReached": false,
       "aggType": "",
       "arguments": {},
       "columnCustomDisplayInfos": {},
       "data": [
        [
         "rajendra",
         "M",
         "50000",
         "50000",
         "121"
        ],
        [
         "Krishna",
         "M",
         "40000",
         "40000",
         "111"
        ],
        [
         "Prasad",
         "M",
         "25000",
         "25000",
         "101"
        ],
        [
         "viswas",
         "M",
         "25000",
         "25000",
         "106"
        ],
        [
         "kishore",
         "M",
         "25000",
         "25000",
         "116"
        ],
        [
         "akhila",
         "F",
         "45000",
         "45000",
         "107"
        ],
        [
         "Rahul",
         "M",
         "30000",
         "30000",
         "102"
        ],
        [
         "Sravani",
         "F",
         "30000",
         "30000",
         "117"
        ],
        [
         "ahmad",
         "M",
         "20000",
         "20000",
         "112"
        ],
        [
         "aditya",
         "M",
         "40000",
         "40000",
         "103"
        ],
        [
         "siva krishna",
         "M",
         "40000",
         "40000",
         "118"
        ],
        [
         "prajol",
         "M",
         "35000",
         "35000",
         "108"
        ],
        [
         "Anusha",
         "F",
         "30000",
         "30000",
         "113"
        ],
        [
         "venu",
         "M",
         "40000",
         "40000",
         "109"
        ],
        [
         "prasanth",
         "M",
         "40000",
         "40000",
         "114"
        ],
        [
         "Pavani",
         "F",
         "20000",
         "20000",
         "104"
        ],
        [
         "satish",
         "M",
         "20000",
         "20000",
         "119"
        ],
        [
         "anupama",
         "F",
         "35000",
         "35000",
         "105"
        ],
        [
         "Sunitha",
         "F",
         "25000",
         "25000",
         "120"
        ],
        [
         "Sujatha",
         "F",
         "20000",
         "20000",
         "110"
        ],
        [
         "aravind",
         "M",
         "20000",
         "20000",
         "115"
        ],
        [
         "rajendra",
         "M",
         "50000",
         "50000",
         "121"
        ],
        [
         "Krishna",
         "M",
         "40000",
         "40000",
         "111"
        ],
        [
         "Prasad",
         "M",
         "25000",
         "25000",
         "101"
        ],
        [
         "viswas",
         "M",
         "25000",
         "25000",
         "106"
        ],
        [
         "kishore",
         "M",
         "25000",
         "25000",
         "116"
        ],
        [
         "akhila",
         "F",
         "45000",
         "45000",
         "107"
        ],
        [
         "Rahul",
         "M",
         "30000",
         "30000",
         "102"
        ],
        [
         "Sravani",
         "F",
         "30000",
         "30000",
         "117"
        ],
        [
         "ahmad",
         "M",
         "20000",
         "20000",
         "112"
        ],
        [
         "aditya",
         "M",
         "40000",
         "40000",
         "103"
        ],
        [
         "siva krishna",
         "M",
         "40000",
         "40000",
         "118"
        ],
        [
         "prajol",
         "M",
         "35000",
         "35000",
         "108"
        ],
        [
         "Anusha",
         "F",
         "30000",
         "30000",
         "113"
        ],
        [
         "venu",
         "M",
         "40000",
         "40000",
         "109"
        ],
        [
         "prasanth",
         "M",
         "40000",
         "40000",
         "114"
        ],
        [
         "Pavani",
         "F",
         "20000",
         "20000",
         "104"
        ],
        [
         "satish",
         "M",
         "20000",
         "20000",
         "119"
        ],
        [
         "anupama",
         "F",
         "35000",
         "35000",
         "105"
        ],
        [
         "Sunitha",
         "F",
         "25000",
         "25000",
         "120"
        ],
        [
         "Sujatha",
         "F",
         "20000",
         "20000",
         "110"
        ],
        [
         "aravind",
         "M",
         "20000",
         "20000",
         "115"
        ],
        [
         "rajendra",
         "M",
         "50000",
         "50000",
         "121"
        ],
        [
         "Krishna",
         "M",
         "40000",
         "40000",
         "111"
        ],
        [
         "Prasad",
         "M",
         "25000",
         "25000",
         "101"
        ],
        [
         "viswas",
         "M",
         "25000",
         "25000",
         "106"
        ],
        [
         "kishore",
         "M",
         "25000",
         "25000",
         "116"
        ],
        [
         "akhila",
         "F",
         "45000",
         "45000",
         "107"
        ],
        [
         "Rahul",
         "M",
         "30000",
         "30000",
         "102"
        ],
        [
         "Sravani",
         "F",
         "30000",
         "30000",
         "117"
        ],
        [
         "ahmad",
         "M",
         "20000",
         "20000",
         "112"
        ],
        [
         "aditya",
         "M",
         "40000",
         "40000",
         "103"
        ],
        [
         "siva krishna",
         "M",
         "40000",
         "40000",
         "118"
        ],
        [
         "prajol",
         "M",
         "35000",
         "35000",
         "108"
        ],
        [
         "Anusha",
         "F",
         "30000",
         "30000",
         "113"
        ],
        [
         "venu",
         "M",
         "40000",
         "40000",
         "109"
        ],
        [
         "prasanth",
         "M",
         "40000",
         "40000",
         "114"
        ],
        [
         "Pavani",
         "F",
         "20000",
         "20000",
         "104"
        ],
        [
         "satish",
         "M",
         "20000",
         "20000",
         "119"
        ],
        [
         "anupama",
         "F",
         "35000",
         "35000",
         "105"
        ],
        [
         "Sunitha",
         "F",
         "25000",
         "25000",
         "120"
        ],
        [
         "Sujatha",
         "F",
         "20000",
         "20000",
         "110"
        ],
        [
         "aravind",
         "M",
         "20000",
         "20000",
         "115"
        ],
        [
         "rajendra",
         "M",
         "50000",
         "50000",
         "121"
        ],
        [
         "Krishna",
         "M",
         "40000",
         "40000",
         "111"
        ],
        [
         "Prasad",
         "M",
         "25000",
         "25000",
         "101"
        ],
        [
         "viswas",
         "M",
         "25000",
         "25000",
         "106"
        ],
        [
         "kishore",
         "M",
         "25000",
         "25000",
         "116"
        ],
        [
         "akhila",
         "F",
         "45000",
         "45000",
         "107"
        ],
        [
         "Rahul",
         "M",
         "30000",
         "30000",
         "102"
        ],
        [
         "Sravani",
         "F",
         "30000",
         "30000",
         "117"
        ],
        [
         "ahmad",
         "M",
         "20000",
         "20000",
         "112"
        ],
        [
         "aditya",
         "M",
         "40000",
         "40000",
         "103"
        ],
        [
         "siva krishna",
         "M",
         "40000",
         "40000",
         "118"
        ],
        [
         "prajol",
         "M",
         "35000",
         "35000",
         "108"
        ],
        [
         "Anusha",
         "F",
         "30000",
         "30000",
         "113"
        ],
        [
         "venu",
         "M",
         "40000",
         "40000",
         "109"
        ],
        [
         "prasanth",
         "M",
         "40000",
         "40000",
         "114"
        ],
        [
         "Pavani",
         "F",
         "20000",
         "20000",
         "104"
        ],
        [
         "satish",
         "M",
         "20000",
         "20000",
         "119"
        ],
        [
         "anupama",
         "F",
         "35000",
         "35000",
         "105"
        ],
        [
         "Sunitha",
         "F",
         "25000",
         "25000",
         "120"
        ],
        [
         "Sujatha",
         "F",
         "20000",
         "20000",
         "110"
        ],
        [
         "aravind",
         "M",
         "20000",
         "20000",
         "115"
        ],
        [
         "rajendra",
         "M",
         "50000",
         "50000",
         "121"
        ],
        [
         "Krishna",
         "M",
         "40000",
         "40000",
         "111"
        ],
        [
         "Prasad",
         "M",
         "25000",
         "25000",
         "101"
        ],
        [
         "viswas",
         "M",
         "25000",
         "25000",
         "106"
        ],
        [
         "kishore",
         "M",
         "25000",
         "25000",
         "116"
        ],
        [
         "akhila",
         "F",
         "45000",
         "45000",
         "107"
        ],
        [
         "Rahul",
         "M",
         "30000",
         "30000",
         "102"
        ],
        [
         "Sravani",
         "F",
         "30000",
         "30000",
         "117"
        ],
        [
         "ahmad",
         "M",
         "20000",
         "20000",
         "112"
        ],
        [
         "aditya",
         "M",
         "40000",
         "40000",
         "103"
        ],
        [
         "siva krishna",
         "M",
         "40000",
         "40000",
         "118"
        ],
        [
         "prajol",
         "M",
         "35000",
         "35000",
         "108"
        ],
        [
         "Anusha",
         "F",
         "30000",
         "30000",
         "113"
        ],
        [
         "venu",
         "M",
         "40000",
         "40000",
         "109"
        ],
        [
         "prasanth",
         "M",
         "40000",
         "40000",
         "114"
        ],
        [
         "Pavani",
         "F",
         "20000",
         "20000",
         "104"
        ],
        [
         "satish",
         "M",
         "20000",
         "20000",
         "119"
        ],
        [
         "anupama",
         "F",
         "35000",
         "35000",
         "105"
        ],
        [
         "Sunitha",
         "F",
         "25000",
         "25000",
         "120"
        ],
        [
         "Sujatha",
         "F",
         "20000",
         "20000",
         "110"
        ],
        [
         "aravind",
         "M",
         "20000",
         "20000",
         "115"
        ],
        [
         "rajendra",
         "M",
         "50000",
         "50000",
         "121"
        ],
        [
         "Krishna",
         "M",
         "40000",
         "40000",
         "111"
        ],
        [
         "Prasad",
         "M",
         "25000",
         "25000",
         "101"
        ],
        [
         "viswas",
         "M",
         "25000",
         "25000",
         "106"
        ],
        [
         "kishore",
         "M",
         "25000",
         "25000",
         "116"
        ],
        [
         "akhila",
         "F",
         "45000",
         "45000",
         "107"
        ],
        [
         "Rahul",
         "M",
         "30000",
         "30000",
         "102"
        ],
        [
         "Sravani",
         "F",
         "30000",
         "30000",
         "117"
        ],
        [
         "ahmad",
         "M",
         "20000",
         "20000",
         "112"
        ],
        [
         "aditya",
         "M",
         "40000",
         "40000",
         "103"
        ],
        [
         "siva krishna",
         "M",
         "40000",
         "40000",
         "118"
        ],
        [
         "prajol",
         "M",
         "35000",
         "35000",
         "108"
        ],
        [
         "Anusha",
         "F",
         "30000",
         "30000",
         "113"
        ],
        [
         "venu",
         "M",
         "40000",
         "40000",
         "109"
        ],
        [
         "prasanth",
         "M",
         "40000",
         "40000",
         "114"
        ],
        [
         "Pavani",
         "F",
         "20000",
         "20000",
         "104"
        ],
        [
         "satish",
         "M",
         "20000",
         "20000",
         "119"
        ],
        [
         "anupama",
         "F",
         "35000",
         "35000",
         "105"
        ],
        [
         "Sunitha",
         "F",
         "25000",
         "25000",
         "120"
        ],
        [
         "Sujatha",
         "F",
         "20000",
         "20000",
         "110"
        ],
        [
         "aravind",
         "M",
         "20000",
         "20000",
         "115"
        ],
        [
         "rajendra",
         "M",
         "50000",
         "50000",
         "121"
        ],
        [
         "Krishna",
         "M",
         "40000",
         "40000",
         "111"
        ],
        [
         "Prasad",
         "M",
         "25000",
         "25000",
         "101"
        ],
        [
         "viswas",
         "M",
         "25000",
         "25000",
         "106"
        ],
        [
         "kishore",
         "M",
         "25000",
         "25000",
         "116"
        ],
        [
         "akhila",
         "F",
         "45000",
         "45000",
         "107"
        ],
        [
         "Rahul",
         "M",
         "30000",
         "30000",
         "102"
        ],
        [
         "Sravani",
         "F",
         "30000",
         "30000",
         "117"
        ],
        [
         "ahmad",
         "M",
         "20000",
         "20000",
         "112"
        ],
        [
         "aditya",
         "M",
         "40000",
         "40000",
         "103"
        ],
        [
         "siva krishna",
         "M",
         "40000",
         "40000",
         "118"
        ],
        [
         "prajol",
         "M",
         "35000",
         "35000",
         "108"
        ],
        [
         "Anusha",
         "F",
         "30000",
         "30000",
         "113"
        ],
        [
         "venu",
         "M",
         "40000",
         "40000",
         "109"
        ],
        [
         "prasanth",
         "M",
         "40000",
         "40000",
         "114"
        ],
        [
         "Pavani",
         "F",
         "20000",
         "20000",
         "104"
        ],
        [
         "satish",
         "M",
         "20000",
         "20000",
         "119"
        ],
        [
         "anupama",
         "F",
         "35000",
         "35000",
         "105"
        ],
        [
         "Sunitha",
         "F",
         "25000",
         "25000",
         "120"
        ],
        [
         "Sujatha",
         "F",
         "20000",
         "20000",
         "110"
        ],
        [
         "aravind",
         "M",
         "20000",
         "20000",
         "115"
        ],
        [
         "rajendra",
         "M",
         "50000",
         "50000",
         "121"
        ],
        [
         "Krishna",
         "M",
         "40000",
         "40000",
         "111"
        ],
        [
         "Prasad",
         "M",
         "25000",
         "25000",
         "101"
        ],
        [
         "viswas",
         "M",
         "25000",
         "25000",
         "106"
        ],
        [
         "kishore",
         "M",
         "25000",
         "25000",
         "116"
        ],
        [
         "akhila",
         "F",
         "45000",
         "45000",
         "107"
        ],
        [
         "Rahul",
         "M",
         "30000",
         "30000",
         "102"
        ],
        [
         "Sravani",
         "F",
         "30000",
         "30000",
         "117"
        ],
        [
         "ahmad",
         "M",
         "20000",
         "20000",
         "112"
        ],
        [
         "aditya",
         "M",
         "40000",
         "40000",
         "103"
        ],
        [
         "siva krishna",
         "M",
         "40000",
         "40000",
         "118"
        ],
        [
         "prajol",
         "M",
         "35000",
         "35000",
         "108"
        ],
        [
         "Anusha",
         "F",
         "30000",
         "30000",
         "113"
        ],
        [
         "venu",
         "M",
         "40000",
         "40000",
         "109"
        ],
        [
         "prasanth",
         "M",
         "40000",
         "40000",
         "114"
        ],
        [
         "Pavani",
         "F",
         "20000",
         "20000",
         "104"
        ],
        [
         "satish",
         "M",
         "20000",
         "20000",
         "119"
        ],
        [
         "anupama",
         "F",
         "35000",
         "35000",
         "105"
        ],
        [
         "Sunitha",
         "F",
         "25000",
         "25000",
         "120"
        ],
        [
         "Sujatha",
         "F",
         "20000",
         "20000",
         "110"
        ],
        [
         "aravind",
         "M",
         "20000",
         "20000",
         "115"
        ]
       ],
       "datasetInfos": [],
       "dbfsResultPath": null,
       "isJsonSchema": true,
       "metadata": {},
       "overflow": false,
       "plotOptions": {
        "customPlotOptions": {},
        "displayType": "table",
        "pivotAggregation": null,
        "pivotColumns": null,
        "xColumns": null,
        "yColumns": null
       },
       "removedWidgets": [],
       "schema": [
        {
         "metadata": "{}",
         "name": "employee_name",
         "type": "\"string\""
        },
        {
         "metadata": "{}",
         "name": "empgender",
         "type": "\"string\""
        },
        {
         "metadata": "{}",
         "name": "Salary",
         "type": "\"string\""
        },
        {
         "metadata": "{}",
         "name": "Salary",
         "type": "\"string\""
        },
        {
         "metadata": "{}",
         "name": "id",
         "type": "\"string\""
        }
       ],
       "type": "table"
      }
     },
     "output_type": "display_data"
    }
   ],
   "source": [
    "display(final_renamed_df)"
   ]
  },
  {
   "cell_type": "code",
   "execution_count": 0,
   "metadata": {
    "application/vnd.databricks.v1+cell": {
     "cellMetadata": {
      "byteLimit": 2048000,
      "rowLimit": 10000
     },
     "inputWidgets": {},
     "nuid": "b1052c56-5a94-4e27-8b00-0e1941073973",
     "showTitle": false,
     "title": ""
    }
   },
   "outputs": [],
   "source": []
  },
  {
   "cell_type": "code",
   "execution_count": 0,
   "metadata": {
    "application/vnd.databricks.v1+cell": {
     "cellMetadata": {
      "byteLimit": 2048000,
      "rowLimit": 10000
     },
     "inputWidgets": {},
     "nuid": "2cf16e4b-92cb-4898-8ef3-d9b2bfb447bb",
     "showTitle": false,
     "title": ""
    }
   },
   "outputs": [
    {
     "output_type": "stream",
     "name": "stdout",
     "output_type": "stream",
     "text": [
      "empname AS employee_name,gender AS empgender,sal AS Salary,empid AS id from final_renamed_df\n['empname AS employee_nameselect *+gender AS empgenderselect *+sal AS Salaryselect *+empid AS idfromfrom final_renamed_df']\n"
     ]
    }
   ],
   "source": [
    "sqlstatement = ['empname AS employee_name', 'gender AS empgender', 'sal AS Salary', 'empid AS id']\n",
    "output = ','.join(sqlstatement) + ' from final_renamed_df'\n",
    "output2=['select *+'.join(sqlstatement)+'from'+'from final_renamed_df']\n",
    "print(output)\n",
    "print(output2)"
   ]
  },
  {
   "cell_type": "code",
   "execution_count": 0,
   "metadata": {
    "application/vnd.databricks.v1+cell": {
     "cellMetadata": {
      "byteLimit": 2048000,
      "rowLimit": 10000
     },
     "inputWidgets": {},
     "nuid": "930dd1d6-6c76-4986-93b0-f84d40d49722",
     "showTitle": false,
     "title": ""
    }
   },
   "outputs": [
    {
     "output_type": "display_data",
     "data": {
      "text/html": [
       "<style scoped>\n",
       "  .table-result-container {\n",
       "    max-height: 300px;\n",
       "    overflow: auto;\n",
       "  }\n",
       "  table, th, td {\n",
       "    border: 1px solid black;\n",
       "    border-collapse: collapse;\n",
       "  }\n",
       "  th, td {\n",
       "    padding: 5px;\n",
       "  }\n",
       "  th {\n",
       "    text-align: left;\n",
       "  }\n",
       "</style><div class='table-result-container'><table class='table-result'><thead style='background-color: white'><tr><th>employee_name</th><th>empgender</th><th>id</th></tr></thead><tbody><tr><td>rajendra</td><td>M</td><td>121</td></tr><tr><td>Krishna</td><td>M</td><td>111</td></tr><tr><td>Prasad</td><td>M</td><td>101</td></tr><tr><td>viswas</td><td>M</td><td>106</td></tr><tr><td>kishore</td><td>M</td><td>116</td></tr><tr><td>akhila</td><td>F</td><td>107</td></tr><tr><td>Rahul</td><td>M</td><td>102</td></tr><tr><td>Sravani</td><td>F</td><td>117</td></tr><tr><td>ahmad</td><td>M</td><td>112</td></tr><tr><td>aditya</td><td>M</td><td>103</td></tr><tr><td>siva krishna</td><td>M</td><td>118</td></tr><tr><td>prajol</td><td>M</td><td>108</td></tr><tr><td>Anusha</td><td>F</td><td>113</td></tr><tr><td>venu</td><td>M</td><td>109</td></tr><tr><td>prasanth</td><td>M</td><td>114</td></tr><tr><td>Pavani</td><td>F</td><td>104</td></tr><tr><td>satish</td><td>M</td><td>119</td></tr><tr><td>anupama</td><td>F</td><td>105</td></tr><tr><td>Sunitha</td><td>F</td><td>120</td></tr><tr><td>Sujatha</td><td>F</td><td>110</td></tr><tr><td>aravind</td><td>M</td><td>115</td></tr><tr><td>rajendra</td><td>M</td><td>121</td></tr><tr><td>Krishna</td><td>M</td><td>111</td></tr><tr><td>Prasad</td><td>M</td><td>101</td></tr><tr><td>viswas</td><td>M</td><td>106</td></tr><tr><td>kishore</td><td>M</td><td>116</td></tr><tr><td>akhila</td><td>F</td><td>107</td></tr><tr><td>Rahul</td><td>M</td><td>102</td></tr><tr><td>Sravani</td><td>F</td><td>117</td></tr><tr><td>ahmad</td><td>M</td><td>112</td></tr><tr><td>aditya</td><td>M</td><td>103</td></tr><tr><td>siva krishna</td><td>M</td><td>118</td></tr><tr><td>prajol</td><td>M</td><td>108</td></tr><tr><td>Anusha</td><td>F</td><td>113</td></tr><tr><td>venu</td><td>M</td><td>109</td></tr><tr><td>prasanth</td><td>M</td><td>114</td></tr><tr><td>Pavani</td><td>F</td><td>104</td></tr><tr><td>satish</td><td>M</td><td>119</td></tr><tr><td>anupama</td><td>F</td><td>105</td></tr><tr><td>Sunitha</td><td>F</td><td>120</td></tr><tr><td>Sujatha</td><td>F</td><td>110</td></tr><tr><td>aravind</td><td>M</td><td>115</td></tr><tr><td>rajendra</td><td>M</td><td>121</td></tr><tr><td>Krishna</td><td>M</td><td>111</td></tr><tr><td>Prasad</td><td>M</td><td>101</td></tr><tr><td>viswas</td><td>M</td><td>106</td></tr><tr><td>kishore</td><td>M</td><td>116</td></tr><tr><td>akhila</td><td>F</td><td>107</td></tr><tr><td>Rahul</td><td>M</td><td>102</td></tr><tr><td>Sravani</td><td>F</td><td>117</td></tr><tr><td>ahmad</td><td>M</td><td>112</td></tr><tr><td>aditya</td><td>M</td><td>103</td></tr><tr><td>siva krishna</td><td>M</td><td>118</td></tr><tr><td>prajol</td><td>M</td><td>108</td></tr><tr><td>Anusha</td><td>F</td><td>113</td></tr><tr><td>venu</td><td>M</td><td>109</td></tr><tr><td>prasanth</td><td>M</td><td>114</td></tr><tr><td>Pavani</td><td>F</td><td>104</td></tr><tr><td>satish</td><td>M</td><td>119</td></tr><tr><td>anupama</td><td>F</td><td>105</td></tr><tr><td>Sunitha</td><td>F</td><td>120</td></tr><tr><td>Sujatha</td><td>F</td><td>110</td></tr><tr><td>aravind</td><td>M</td><td>115</td></tr><tr><td>rajendra</td><td>M</td><td>121</td></tr><tr><td>Krishna</td><td>M</td><td>111</td></tr><tr><td>Prasad</td><td>M</td><td>101</td></tr><tr><td>viswas</td><td>M</td><td>106</td></tr><tr><td>kishore</td><td>M</td><td>116</td></tr><tr><td>akhila</td><td>F</td><td>107</td></tr><tr><td>Rahul</td><td>M</td><td>102</td></tr><tr><td>Sravani</td><td>F</td><td>117</td></tr><tr><td>ahmad</td><td>M</td><td>112</td></tr><tr><td>aditya</td><td>M</td><td>103</td></tr><tr><td>siva krishna</td><td>M</td><td>118</td></tr><tr><td>prajol</td><td>M</td><td>108</td></tr><tr><td>Anusha</td><td>F</td><td>113</td></tr><tr><td>venu</td><td>M</td><td>109</td></tr><tr><td>prasanth</td><td>M</td><td>114</td></tr><tr><td>Pavani</td><td>F</td><td>104</td></tr><tr><td>satish</td><td>M</td><td>119</td></tr><tr><td>anupama</td><td>F</td><td>105</td></tr><tr><td>Sunitha</td><td>F</td><td>120</td></tr><tr><td>Sujatha</td><td>F</td><td>110</td></tr><tr><td>aravind</td><td>M</td><td>115</td></tr><tr><td>rajendra</td><td>M</td><td>121</td></tr><tr><td>Krishna</td><td>M</td><td>111</td></tr><tr><td>Prasad</td><td>M</td><td>101</td></tr><tr><td>viswas</td><td>M</td><td>106</td></tr><tr><td>kishore</td><td>M</td><td>116</td></tr><tr><td>akhila</td><td>F</td><td>107</td></tr><tr><td>Rahul</td><td>M</td><td>102</td></tr><tr><td>Sravani</td><td>F</td><td>117</td></tr><tr><td>ahmad</td><td>M</td><td>112</td></tr><tr><td>aditya</td><td>M</td><td>103</td></tr><tr><td>siva krishna</td><td>M</td><td>118</td></tr><tr><td>prajol</td><td>M</td><td>108</td></tr><tr><td>Anusha</td><td>F</td><td>113</td></tr><tr><td>venu</td><td>M</td><td>109</td></tr><tr><td>prasanth</td><td>M</td><td>114</td></tr><tr><td>Pavani</td><td>F</td><td>104</td></tr><tr><td>satish</td><td>M</td><td>119</td></tr><tr><td>anupama</td><td>F</td><td>105</td></tr><tr><td>Sunitha</td><td>F</td><td>120</td></tr><tr><td>Sujatha</td><td>F</td><td>110</td></tr><tr><td>aravind</td><td>M</td><td>115</td></tr><tr><td>rajendra</td><td>M</td><td>121</td></tr><tr><td>Krishna</td><td>M</td><td>111</td></tr><tr><td>Prasad</td><td>M</td><td>101</td></tr><tr><td>viswas</td><td>M</td><td>106</td></tr><tr><td>kishore</td><td>M</td><td>116</td></tr><tr><td>akhila</td><td>F</td><td>107</td></tr><tr><td>Rahul</td><td>M</td><td>102</td></tr><tr><td>Sravani</td><td>F</td><td>117</td></tr><tr><td>ahmad</td><td>M</td><td>112</td></tr><tr><td>aditya</td><td>M</td><td>103</td></tr><tr><td>siva krishna</td><td>M</td><td>118</td></tr><tr><td>prajol</td><td>M</td><td>108</td></tr><tr><td>Anusha</td><td>F</td><td>113</td></tr><tr><td>venu</td><td>M</td><td>109</td></tr><tr><td>prasanth</td><td>M</td><td>114</td></tr><tr><td>Pavani</td><td>F</td><td>104</td></tr><tr><td>satish</td><td>M</td><td>119</td></tr><tr><td>anupama</td><td>F</td><td>105</td></tr><tr><td>Sunitha</td><td>F</td><td>120</td></tr><tr><td>Sujatha</td><td>F</td><td>110</td></tr><tr><td>aravind</td><td>M</td><td>115</td></tr><tr><td>rajendra</td><td>M</td><td>121</td></tr><tr><td>Krishna</td><td>M</td><td>111</td></tr><tr><td>Prasad</td><td>M</td><td>101</td></tr><tr><td>viswas</td><td>M</td><td>106</td></tr><tr><td>kishore</td><td>M</td><td>116</td></tr><tr><td>akhila</td><td>F</td><td>107</td></tr><tr><td>Rahul</td><td>M</td><td>102</td></tr><tr><td>Sravani</td><td>F</td><td>117</td></tr><tr><td>ahmad</td><td>M</td><td>112</td></tr><tr><td>aditya</td><td>M</td><td>103</td></tr><tr><td>siva krishna</td><td>M</td><td>118</td></tr><tr><td>prajol</td><td>M</td><td>108</td></tr><tr><td>Anusha</td><td>F</td><td>113</td></tr><tr><td>venu</td><td>M</td><td>109</td></tr><tr><td>prasanth</td><td>M</td><td>114</td></tr><tr><td>Pavani</td><td>F</td><td>104</td></tr><tr><td>satish</td><td>M</td><td>119</td></tr><tr><td>anupama</td><td>F</td><td>105</td></tr><tr><td>Sunitha</td><td>F</td><td>120</td></tr><tr><td>Sujatha</td><td>F</td><td>110</td></tr><tr><td>aravind</td><td>M</td><td>115</td></tr><tr><td>rajendra</td><td>M</td><td>121</td></tr><tr><td>Krishna</td><td>M</td><td>111</td></tr><tr><td>Prasad</td><td>M</td><td>101</td></tr><tr><td>viswas</td><td>M</td><td>106</td></tr><tr><td>kishore</td><td>M</td><td>116</td></tr><tr><td>akhila</td><td>F</td><td>107</td></tr><tr><td>Rahul</td><td>M</td><td>102</td></tr><tr><td>Sravani</td><td>F</td><td>117</td></tr><tr><td>ahmad</td><td>M</td><td>112</td></tr><tr><td>aditya</td><td>M</td><td>103</td></tr><tr><td>siva krishna</td><td>M</td><td>118</td></tr><tr><td>prajol</td><td>M</td><td>108</td></tr><tr><td>Anusha</td><td>F</td><td>113</td></tr><tr><td>venu</td><td>M</td><td>109</td></tr><tr><td>prasanth</td><td>M</td><td>114</td></tr><tr><td>Pavani</td><td>F</td><td>104</td></tr><tr><td>satish</td><td>M</td><td>119</td></tr><tr><td>anupama</td><td>F</td><td>105</td></tr><tr><td>Sunitha</td><td>F</td><td>120</td></tr><tr><td>Sujatha</td><td>F</td><td>110</td></tr><tr><td>aravind</td><td>M</td><td>115</td></tr></tbody></table></div>"
      ]
     },
     "metadata": {
      "application/vnd.databricks.v1+output": {
       "addedWidgets": {},
       "aggData": [],
       "aggError": "",
       "aggOverflow": false,
       "aggSchema": [],
       "aggSeriesLimitReached": false,
       "aggType": "",
       "arguments": {},
       "columnCustomDisplayInfos": {},
       "data": [
        [
         "rajendra",
         "M",
         "121"
        ],
        [
         "Krishna",
         "M",
         "111"
        ],
        [
         "Prasad",
         "M",
         "101"
        ],
        [
         "viswas",
         "M",
         "106"
        ],
        [
         "kishore",
         "M",
         "116"
        ],
        [
         "akhila",
         "F",
         "107"
        ],
        [
         "Rahul",
         "M",
         "102"
        ],
        [
         "Sravani",
         "F",
         "117"
        ],
        [
         "ahmad",
         "M",
         "112"
        ],
        [
         "aditya",
         "M",
         "103"
        ],
        [
         "siva krishna",
         "M",
         "118"
        ],
        [
         "prajol",
         "M",
         "108"
        ],
        [
         "Anusha",
         "F",
         "113"
        ],
        [
         "venu",
         "M",
         "109"
        ],
        [
         "prasanth",
         "M",
         "114"
        ],
        [
         "Pavani",
         "F",
         "104"
        ],
        [
         "satish",
         "M",
         "119"
        ],
        [
         "anupama",
         "F",
         "105"
        ],
        [
         "Sunitha",
         "F",
         "120"
        ],
        [
         "Sujatha",
         "F",
         "110"
        ],
        [
         "aravind",
         "M",
         "115"
        ],
        [
         "rajendra",
         "M",
         "121"
        ],
        [
         "Krishna",
         "M",
         "111"
        ],
        [
         "Prasad",
         "M",
         "101"
        ],
        [
         "viswas",
         "M",
         "106"
        ],
        [
         "kishore",
         "M",
         "116"
        ],
        [
         "akhila",
         "F",
         "107"
        ],
        [
         "Rahul",
         "M",
         "102"
        ],
        [
         "Sravani",
         "F",
         "117"
        ],
        [
         "ahmad",
         "M",
         "112"
        ],
        [
         "aditya",
         "M",
         "103"
        ],
        [
         "siva krishna",
         "M",
         "118"
        ],
        [
         "prajol",
         "M",
         "108"
        ],
        [
         "Anusha",
         "F",
         "113"
        ],
        [
         "venu",
         "M",
         "109"
        ],
        [
         "prasanth",
         "M",
         "114"
        ],
        [
         "Pavani",
         "F",
         "104"
        ],
        [
         "satish",
         "M",
         "119"
        ],
        [
         "anupama",
         "F",
         "105"
        ],
        [
         "Sunitha",
         "F",
         "120"
        ],
        [
         "Sujatha",
         "F",
         "110"
        ],
        [
         "aravind",
         "M",
         "115"
        ],
        [
         "rajendra",
         "M",
         "121"
        ],
        [
         "Krishna",
         "M",
         "111"
        ],
        [
         "Prasad",
         "M",
         "101"
        ],
        [
         "viswas",
         "M",
         "106"
        ],
        [
         "kishore",
         "M",
         "116"
        ],
        [
         "akhila",
         "F",
         "107"
        ],
        [
         "Rahul",
         "M",
         "102"
        ],
        [
         "Sravani",
         "F",
         "117"
        ],
        [
         "ahmad",
         "M",
         "112"
        ],
        [
         "aditya",
         "M",
         "103"
        ],
        [
         "siva krishna",
         "M",
         "118"
        ],
        [
         "prajol",
         "M",
         "108"
        ],
        [
         "Anusha",
         "F",
         "113"
        ],
        [
         "venu",
         "M",
         "109"
        ],
        [
         "prasanth",
         "M",
         "114"
        ],
        [
         "Pavani",
         "F",
         "104"
        ],
        [
         "satish",
         "M",
         "119"
        ],
        [
         "anupama",
         "F",
         "105"
        ],
        [
         "Sunitha",
         "F",
         "120"
        ],
        [
         "Sujatha",
         "F",
         "110"
        ],
        [
         "aravind",
         "M",
         "115"
        ],
        [
         "rajendra",
         "M",
         "121"
        ],
        [
         "Krishna",
         "M",
         "111"
        ],
        [
         "Prasad",
         "M",
         "101"
        ],
        [
         "viswas",
         "M",
         "106"
        ],
        [
         "kishore",
         "M",
         "116"
        ],
        [
         "akhila",
         "F",
         "107"
        ],
        [
         "Rahul",
         "M",
         "102"
        ],
        [
         "Sravani",
         "F",
         "117"
        ],
        [
         "ahmad",
         "M",
         "112"
        ],
        [
         "aditya",
         "M",
         "103"
        ],
        [
         "siva krishna",
         "M",
         "118"
        ],
        [
         "prajol",
         "M",
         "108"
        ],
        [
         "Anusha",
         "F",
         "113"
        ],
        [
         "venu",
         "M",
         "109"
        ],
        [
         "prasanth",
         "M",
         "114"
        ],
        [
         "Pavani",
         "F",
         "104"
        ],
        [
         "satish",
         "M",
         "119"
        ],
        [
         "anupama",
         "F",
         "105"
        ],
        [
         "Sunitha",
         "F",
         "120"
        ],
        [
         "Sujatha",
         "F",
         "110"
        ],
        [
         "aravind",
         "M",
         "115"
        ],
        [
         "rajendra",
         "M",
         "121"
        ],
        [
         "Krishna",
         "M",
         "111"
        ],
        [
         "Prasad",
         "M",
         "101"
        ],
        [
         "viswas",
         "M",
         "106"
        ],
        [
         "kishore",
         "M",
         "116"
        ],
        [
         "akhila",
         "F",
         "107"
        ],
        [
         "Rahul",
         "M",
         "102"
        ],
        [
         "Sravani",
         "F",
         "117"
        ],
        [
         "ahmad",
         "M",
         "112"
        ],
        [
         "aditya",
         "M",
         "103"
        ],
        [
         "siva krishna",
         "M",
         "118"
        ],
        [
         "prajol",
         "M",
         "108"
        ],
        [
         "Anusha",
         "F",
         "113"
        ],
        [
         "venu",
         "M",
         "109"
        ],
        [
         "prasanth",
         "M",
         "114"
        ],
        [
         "Pavani",
         "F",
         "104"
        ],
        [
         "satish",
         "M",
         "119"
        ],
        [
         "anupama",
         "F",
         "105"
        ],
        [
         "Sunitha",
         "F",
         "120"
        ],
        [
         "Sujatha",
         "F",
         "110"
        ],
        [
         "aravind",
         "M",
         "115"
        ],
        [
         "rajendra",
         "M",
         "121"
        ],
        [
         "Krishna",
         "M",
         "111"
        ],
        [
         "Prasad",
         "M",
         "101"
        ],
        [
         "viswas",
         "M",
         "106"
        ],
        [
         "kishore",
         "M",
         "116"
        ],
        [
         "akhila",
         "F",
         "107"
        ],
        [
         "Rahul",
         "M",
         "102"
        ],
        [
         "Sravani",
         "F",
         "117"
        ],
        [
         "ahmad",
         "M",
         "112"
        ],
        [
         "aditya",
         "M",
         "103"
        ],
        [
         "siva krishna",
         "M",
         "118"
        ],
        [
         "prajol",
         "M",
         "108"
        ],
        [
         "Anusha",
         "F",
         "113"
        ],
        [
         "venu",
         "M",
         "109"
        ],
        [
         "prasanth",
         "M",
         "114"
        ],
        [
         "Pavani",
         "F",
         "104"
        ],
        [
         "satish",
         "M",
         "119"
        ],
        [
         "anupama",
         "F",
         "105"
        ],
        [
         "Sunitha",
         "F",
         "120"
        ],
        [
         "Sujatha",
         "F",
         "110"
        ],
        [
         "aravind",
         "M",
         "115"
        ],
        [
         "rajendra",
         "M",
         "121"
        ],
        [
         "Krishna",
         "M",
         "111"
        ],
        [
         "Prasad",
         "M",
         "101"
        ],
        [
         "viswas",
         "M",
         "106"
        ],
        [
         "kishore",
         "M",
         "116"
        ],
        [
         "akhila",
         "F",
         "107"
        ],
        [
         "Rahul",
         "M",
         "102"
        ],
        [
         "Sravani",
         "F",
         "117"
        ],
        [
         "ahmad",
         "M",
         "112"
        ],
        [
         "aditya",
         "M",
         "103"
        ],
        [
         "siva krishna",
         "M",
         "118"
        ],
        [
         "prajol",
         "M",
         "108"
        ],
        [
         "Anusha",
         "F",
         "113"
        ],
        [
         "venu",
         "M",
         "109"
        ],
        [
         "prasanth",
         "M",
         "114"
        ],
        [
         "Pavani",
         "F",
         "104"
        ],
        [
         "satish",
         "M",
         "119"
        ],
        [
         "anupama",
         "F",
         "105"
        ],
        [
         "Sunitha",
         "F",
         "120"
        ],
        [
         "Sujatha",
         "F",
         "110"
        ],
        [
         "aravind",
         "M",
         "115"
        ],
        [
         "rajendra",
         "M",
         "121"
        ],
        [
         "Krishna",
         "M",
         "111"
        ],
        [
         "Prasad",
         "M",
         "101"
        ],
        [
         "viswas",
         "M",
         "106"
        ],
        [
         "kishore",
         "M",
         "116"
        ],
        [
         "akhila",
         "F",
         "107"
        ],
        [
         "Rahul",
         "M",
         "102"
        ],
        [
         "Sravani",
         "F",
         "117"
        ],
        [
         "ahmad",
         "M",
         "112"
        ],
        [
         "aditya",
         "M",
         "103"
        ],
        [
         "siva krishna",
         "M",
         "118"
        ],
        [
         "prajol",
         "M",
         "108"
        ],
        [
         "Anusha",
         "F",
         "113"
        ],
        [
         "venu",
         "M",
         "109"
        ],
        [
         "prasanth",
         "M",
         "114"
        ],
        [
         "Pavani",
         "F",
         "104"
        ],
        [
         "satish",
         "M",
         "119"
        ],
        [
         "anupama",
         "F",
         "105"
        ],
        [
         "Sunitha",
         "F",
         "120"
        ],
        [
         "Sujatha",
         "F",
         "110"
        ],
        [
         "aravind",
         "M",
         "115"
        ]
       ],
       "datasetInfos": [],
       "dbfsResultPath": null,
       "isJsonSchema": true,
       "metadata": {},
       "overflow": false,
       "plotOptions": {
        "customPlotOptions": {},
        "displayType": "table",
        "pivotAggregation": null,
        "pivotColumns": null,
        "xColumns": null,
        "yColumns": null
       },
       "removedWidgets": [],
       "schema": [
        {
         "metadata": "{}",
         "name": "employee_name",
         "type": "\"string\""
        },
        {
         "metadata": "{}",
         "name": "empgender",
         "type": "\"string\""
        },
        {
         "metadata": "{}",
         "name": "id",
         "type": "\"string\""
        }
       ],
       "type": "table"
      }
     },
     "output_type": "display_data"
    }
   ],
   "source": [
    "res=final_renamed_df.drop(final_renamed_df.columns[3])\n",
    "display(res)"
   ]
  },
  {
   "cell_type": "code",
   "execution_count": 0,
   "metadata": {
    "application/vnd.databricks.v1+cell": {
     "cellMetadata": {
      "byteLimit": 2048000,
      "rowLimit": 10000
     },
     "inputWidgets": {},
     "nuid": "9035f3ea-83d0-4e03-b55d-44addc06d663",
     "showTitle": false,
     "title": ""
    }
   },
   "outputs": [],
   "source": [
    "res.write.format('parquet').mode('append').save(sataging_path)"
   ]
  }
 ],
 "metadata": {
  "application/vnd.databricks.v1+notebook": {
   "dashboards": [],
   "environmentMetadata": null,
   "language": "python",
   "notebookMetadata": {
    "pythonIndentUnit": 4
   },
   "notebookName": "Untitled Notebook 2024-05-30 12:52:31",
   "widgets": {}
  }
 },
 "nbformat": 4,
 "nbformat_minor": 0
}
