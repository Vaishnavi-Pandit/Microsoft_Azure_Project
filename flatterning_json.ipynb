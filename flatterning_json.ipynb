{
 "cells": [
  {
   "cell_type": "code",
   "execution_count": null,
   "metadata": {
    "application/vnd.databricks.v1+cell": {
     "cellMetadata": {
      "byteLimit": 2048000,
      "rowLimit": 10000
     },
     "inputWidgets": {},
     "nuid": "72b0cdd7-9ef2-4784-8470-dd17edaf4db4",
     "showTitle": false,
     "title": ""
    }
   },
   "outputs": [],
   "source": [
    "from pyspark.sql import *\n",
    "from pyspark.sql.functions import *\n",
    "from delta.tables import DeltaTable\n",
    "\n",
    "spark.conf.set('fs.azure.account.key.dev0011insuranceaccount.dfs.core.windows.net', 'DoaxB6QXcYCJB0aEW3REkQ69kSZKBC8hbsoaVzy84mfi+ORxwxD5RPvaQeftrrwkxn8GvKfZ21ew+ASt/TWSqQ==')\n",
    "raw_path='abfss://rawlayer@dev0011insuranceaccount.dfs.core.windows.net/fhinsurance/input/emp_window_data (1).csv'\n",
    "silver_path='abfss://silverlayer@dev0011insuranceaccount.dfs.core.windows.net/fhinsurance/output'"
   ]
  },
  {
   "cell_type": "code",
   "execution_count": null,
   "metadata": {
    "application/vnd.databricks.v1+cell": {
     "cellMetadata": {
      "byteLimit": 2048000,
      "rowLimit": 10000
     },
     "inputWidgets": {},
     "nuid": "96577a31-46da-49ac-8043-86330d979245",
     "showTitle": false,
     "title": ""
    }
   },
   "outputs": [
    {
     "data": {
      "text/html": [
       "<style scoped>\n",
       "  .table-result-container {\n",
       "    max-height: 300px;\n",
       "    overflow: auto;\n",
       "  }\n",
       "  table, th, td {\n",
       "    border: 1px solid black;\n",
       "    border-collapse: collapse;\n",
       "  }\n",
       "  th, td {\n",
       "    padding: 5px;\n",
       "  }\n",
       "  th {\n",
       "    text-align: left;\n",
       "  }\n",
       "</style><div class='table-result-container'><table class='table-result'><thead style='background-color: white'><tr><th>empid</th><th>empname</th><th>gender</th><th>deptno</th><th>sal</th></tr></thead><tbody><tr><td>121</td><td>rajendra</td><td>M</td><td>10</td><td>50000</td></tr><tr><td>111</td><td>Krishna</td><td>M</td><td>10</td><td>40000</td></tr><tr><td>101</td><td>Prasad</td><td>M</td><td>10</td><td>25000</td></tr><tr><td>106</td><td>viswas</td><td>M</td><td>10</td><td>25000</td></tr><tr><td>116</td><td>kishore</td><td>M</td><td>10</td><td>25000</td></tr><tr><td>107</td><td>akhila</td><td>F</td><td>20</td><td>45000</td></tr><tr><td>102</td><td>Rahul</td><td>M</td><td>20</td><td>30000</td></tr><tr><td>117</td><td>Sravani</td><td>F</td><td>20</td><td>30000</td></tr><tr><td>112</td><td>ahmad</td><td>M</td><td>20</td><td>20000</td></tr><tr><td>103</td><td>aditya</td><td>M</td><td>30</td><td>40000</td></tr><tr><td>118</td><td>siva krishna</td><td>M</td><td>30</td><td>40000</td></tr><tr><td>108</td><td>prajol</td><td>M</td><td>30</td><td>35000</td></tr><tr><td>113</td><td>Anusha</td><td>F</td><td>30</td><td>30000</td></tr><tr><td>109</td><td>venu</td><td>M</td><td>40</td><td>40000</td></tr><tr><td>114</td><td>prasanth</td><td>M</td><td>40</td><td>40000</td></tr><tr><td>104</td><td>Pavani</td><td>F</td><td>40</td><td>20000</td></tr><tr><td>119</td><td>satish</td><td>M</td><td>40</td><td>20000</td></tr><tr><td>105</td><td>anupama</td><td>F</td><td>50</td><td>35000</td></tr><tr><td>120</td><td>Sunitha</td><td>F</td><td>50</td><td>25000</td></tr><tr><td>110</td><td>Sujatha</td><td>F</td><td>50</td><td>20000</td></tr><tr><td>115</td><td>aravind</td><td>M</td><td>50</td><td>20000</td></tr></tbody></table></div>"
      ]
     },
     "metadata": {
      "application/vnd.databricks.v1+output": {
       "addedWidgets": {},
       "aggData": [],
       "aggError": "",
       "aggOverflow": false,
       "aggSchema": [],
       "aggSeriesLimitReached": false,
       "aggType": "",
       "arguments": {},
       "columnCustomDisplayInfos": {},
       "data": [
        [
         "121",
         "rajendra",
         "M",
         "10",
         "50000"
        ],
        [
         "111",
         "Krishna",
         "M",
         "10",
         "40000"
        ],
        [
         "101",
         "Prasad",
         "M",
         "10",
         "25000"
        ],
        [
         "106",
         "viswas",
         "M",
         "10",
         "25000"
        ],
        [
         "116",
         "kishore",
         "M",
         "10",
         "25000"
        ],
        [
         "107",
         "akhila",
         "F",
         "20",
         "45000"
        ],
        [
         "102",
         "Rahul",
         "M",
         "20",
         "30000"
        ],
        [
         "117",
         "Sravani",
         "F",
         "20",
         "30000"
        ],
        [
         "112",
         "ahmad",
         "M",
         "20",
         "20000"
        ],
        [
         "103",
         "aditya",
         "M",
         "30",
         "40000"
        ],
        [
         "118",
         "siva krishna",
         "M",
         "30",
         "40000"
        ],
        [
         "108",
         "prajol",
         "M",
         "30",
         "35000"
        ],
        [
         "113",
         "Anusha",
         "F",
         "30",
         "30000"
        ],
        [
         "109",
         "venu",
         "M",
         "40",
         "40000"
        ],
        [
         "114",
         "prasanth",
         "M",
         "40",
         "40000"
        ],
        [
         "104",
         "Pavani",
         "F",
         "40",
         "20000"
        ],
        [
         "119",
         "satish",
         "M",
         "40",
         "20000"
        ],
        [
         "105",
         "anupama",
         "F",
         "50",
         "35000"
        ],
        [
         "120",
         "Sunitha",
         "F",
         "50",
         "25000"
        ],
        [
         "110",
         "Sujatha",
         "F",
         "50",
         "20000"
        ],
        [
         "115",
         "aravind",
         "M",
         "50",
         "20000"
        ]
       ],
       "datasetInfos": [],
       "dbfsResultPath": null,
       "isJsonSchema": true,
       "metadata": {},
       "overflow": false,
       "plotOptions": {
        "customPlotOptions": {},
        "displayType": "table",
        "pivotAggregation": null,
        "pivotColumns": null,
        "xColumns": null,
        "yColumns": null
       },
       "removedWidgets": [],
       "schema": [
        {
         "metadata": "{}",
         "name": "empid",
         "type": "\"string\""
        },
        {
         "metadata": "{}",
         "name": "empname",
         "type": "\"string\""
        },
        {
         "metadata": "{}",
         "name": "gender",
         "type": "\"string\""
        },
        {
         "metadata": "{}",
         "name": "deptno",
         "type": "\"string\""
        },
        {
         "metadata": "{}",
         "name": "sal",
         "type": "\"string\""
        }
       ],
       "type": "table"
      }
     },
     "output_type": "display_data"
    }
   ],
   "source": [
    "df=spark.read.format('csv').option('header','true').option('interSchema','true').load(raw_path)\n",
    "display(df)"
   ]
  },
  {
   "cell_type": "code",
   "execution_count": null,
   "metadata": {
    "application/vnd.databricks.v1+cell": {
     "cellMetadata": {
      "byteLimit": 2048000,
      "rowLimit": 10000
     },
     "inputWidgets": {},
     "nuid": "8c44b893-7bc5-4a71-8e87-82128d4bd8f3",
     "showTitle": false,
     "title": ""
    }
   },
   "outputs": [
    {
     "name": "stdout",
     "output_type": "stream",
     "text": [
      "['empid', 'empname', 'gender', 'deptno', 'sal']\n"
     ]
    },
    {
     "data": {
      "text/html": [
       "<style scoped>\n",
       "  .table-result-container {\n",
       "    max-height: 300px;\n",
       "    overflow: auto;\n",
       "  }\n",
       "  table, th, td {\n",
       "    border: 1px solid black;\n",
       "    border-collapse: collapse;\n",
       "  }\n",
       "  th, td {\n",
       "    padding: 5px;\n",
       "  }\n",
       "  th {\n",
       "    text-align: left;\n",
       "  }\n",
       "</style><div class='table-result-container'><table class='table-result'><thead style='background-color: white'><tr><th>empid</th><th>empname</th><th>gender</th><th>deptno</th><th>sal</th></tr></thead><tbody><tr><td>121</td><td>rajendra</td><td>M</td><td>10</td><td>50000</td></tr><tr><td>111</td><td>Krishna</td><td>M</td><td>10</td><td>40000</td></tr><tr><td>101</td><td>Prasad</td><td>M</td><td>10</td><td>25000</td></tr><tr><td>106</td><td>viswas</td><td>M</td><td>10</td><td>25000</td></tr><tr><td>116</td><td>kishore</td><td>M</td><td>10</td><td>25000</td></tr><tr><td>107</td><td>akhila</td><td>F</td><td>20</td><td>45000</td></tr><tr><td>102</td><td>Rahul</td><td>M</td><td>20</td><td>30000</td></tr><tr><td>117</td><td>Sravani</td><td>F</td><td>20</td><td>30000</td></tr><tr><td>112</td><td>ahmad</td><td>M</td><td>20</td><td>20000</td></tr><tr><td>103</td><td>aditya</td><td>M</td><td>30</td><td>40000</td></tr><tr><td>118</td><td>siva krishna</td><td>M</td><td>30</td><td>40000</td></tr><tr><td>108</td><td>prajol</td><td>M</td><td>30</td><td>35000</td></tr><tr><td>113</td><td>Anusha</td><td>F</td><td>30</td><td>30000</td></tr><tr><td>109</td><td>venu</td><td>M</td><td>40</td><td>40000</td></tr><tr><td>114</td><td>prasanth</td><td>M</td><td>40</td><td>40000</td></tr><tr><td>104</td><td>Pavani</td><td>F</td><td>40</td><td>20000</td></tr><tr><td>119</td><td>satish</td><td>M</td><td>40</td><td>20000</td></tr><tr><td>105</td><td>anupama</td><td>F</td><td>50</td><td>35000</td></tr><tr><td>120</td><td>Sunitha</td><td>F</td><td>50</td><td>25000</td></tr><tr><td>110</td><td>Sujatha</td><td>F</td><td>50</td><td>20000</td></tr><tr><td>115</td><td>aravind</td><td>M</td><td>50</td><td>20000</td></tr></tbody></table></div>"
      ]
     },
     "metadata": {
      "application/vnd.databricks.v1+output": {
       "addedWidgets": {},
       "aggData": [],
       "aggError": "",
       "aggOverflow": false,
       "aggSchema": [],
       "aggSeriesLimitReached": false,
       "aggType": "",
       "arguments": {},
       "columnCustomDisplayInfos": {},
       "data": [
        [
         "121",
         "rajendra",
         "M",
         "10",
         "50000"
        ],
        [
         "111",
         "Krishna",
         "M",
         "10",
         "40000"
        ],
        [
         "101",
         "Prasad",
         "M",
         "10",
         "25000"
        ],
        [
         "106",
         "viswas",
         "M",
         "10",
         "25000"
        ],
        [
         "116",
         "kishore",
         "M",
         "10",
         "25000"
        ],
        [
         "107",
         "akhila",
         "F",
         "20",
         "45000"
        ],
        [
         "102",
         "Rahul",
         "M",
         "20",
         "30000"
        ],
        [
         "117",
         "Sravani",
         "F",
         "20",
         "30000"
        ],
        [
         "112",
         "ahmad",
         "M",
         "20",
         "20000"
        ],
        [
         "103",
         "aditya",
         "M",
         "30",
         "40000"
        ],
        [
         "118",
         "siva krishna",
         "M",
         "30",
         "40000"
        ],
        [
         "108",
         "prajol",
         "M",
         "30",
         "35000"
        ],
        [
         "113",
         "Anusha",
         "F",
         "30",
         "30000"
        ],
        [
         "109",
         "venu",
         "M",
         "40",
         "40000"
        ],
        [
         "114",
         "prasanth",
         "M",
         "40",
         "40000"
        ],
        [
         "104",
         "Pavani",
         "F",
         "40",
         "20000"
        ],
        [
         "119",
         "satish",
         "M",
         "40",
         "20000"
        ],
        [
         "105",
         "anupama",
         "F",
         "50",
         "35000"
        ],
        [
         "120",
         "Sunitha",
         "F",
         "50",
         "25000"
        ],
        [
         "110",
         "Sujatha",
         "F",
         "50",
         "20000"
        ],
        [
         "115",
         "aravind",
         "M",
         "50",
         "20000"
        ]
       ],
       "datasetInfos": [],
       "dbfsResultPath": null,
       "isJsonSchema": true,
       "metadata": {},
       "overflow": false,
       "plotOptions": {
        "customPlotOptions": {},
        "displayType": "table",
        "pivotAggregation": null,
        "pivotColumns": null,
        "xColumns": null,
        "yColumns": null
       },
       "removedWidgets": [],
       "schema": [
        {
         "metadata": "{}",
         "name": "empid",
         "type": "\"string\""
        },
        {
         "metadata": "{}",
         "name": "empname",
         "type": "\"string\""
        },
        {
         "metadata": "{}",
         "name": "gender",
         "type": "\"string\""
        },
        {
         "metadata": "{}",
         "name": "deptno",
         "type": "\"string\""
        },
        {
         "metadata": "{}",
         "name": "sal",
         "type": "\"string\""
        }
       ],
       "type": "table"
      }
     },
     "output_type": "display_data"
    }
   ],
   "source": [
    "import re\n",
    "cols=[re.sub(' ','',col)for col in df.columns]\n",
    "print(cols)\n",
    "output_df=df.toDF(*cols)\n",
    "display(output_df)\n",
    "\n"
   ]
  },
  {
   "cell_type": "code",
   "execution_count": null,
   "metadata": {
    "application/vnd.databricks.v1+cell": {
     "cellMetadata": {},
     "inputWidgets": {},
     "nuid": "4a47ee28-5f1c-4d2e-9f8b-fb56357ef983",
     "showTitle": false,
     "title": ""
    }
   },
   "outputs": [],
   "source": []
  },
  {
   "cell_type": "code",
   "execution_count": null,
   "metadata": {
    "application/vnd.databricks.v1+cell": {
     "cellMetadata": {
      "byteLimit": 2048000,
      "rowLimit": 10000
     },
     "inputWidgets": {},
     "nuid": "7a0cf9ad-9889-40eb-9ec4-f07ba205b318",
     "showTitle": false,
     "title": ""
    }
   },
   "outputs": [],
   "source": [
    "#mergeupsert\n",
    "def historical_load():\n",
    "    output_df.write.format('delta').mode('append').option('mergeSchema', 'true').save(silver_path)\n",
    "    # Corrected SQL command\n",
    "    spark.sql(f\"\"\"\n",
    "              CREATE TABLE IF NOT EXISTS fthinsurance_customer_detail\n",
    "              USING delta\n",
    "              LOCATION '{silver_path}';\n",
    "              \"\"\")\n",
    "    print('historical_load completed')\n",
    "def incremental_load(df):\n",
    "    delta_table=deltatable.forpath(spark,silver_path)\n",
    "    (delta_table.alias('target').merge(mydf.alias\n",
    "                                       ('source'),condition='target.CustomerId=source.CustomerId').whenMatchedUpdateAll().whenNotMatchedInsertAll()).execute()\n",
    "try:\n",
    "    spark.sql(\"select count(*) as cnt from fhinsurance_customer_detail\").first()['cnt']\n",
    "    result='table is created'\n",
    "except:\n",
    "    result='table is not created'\n",
    "    print(result) \n"
   ]
  },
  {
   "cell_type": "code",
   "execution_count": null,
   "metadata": {
    "application/vnd.databricks.v1+cell": {
     "cellMetadata": {
      "byteLimit": 2048000,
      "rowLimit": 10000
     },
     "inputWidgets": {},
     "nuid": "c1cb6c2e-86a2-4c12-8729-bed06a4b58c8",
     "showTitle": false,
     "title": ""
    }
   },
   "outputs": [
    {
     "name": "stdout",
     "output_type": "stream",
     "text": [
      "table is not created\n"
     ]
    }
   ],
   "source": [
    " "
   ]
  },
  {
   "cell_type": "code",
   "execution_count": null,
   "metadata": {
    "application/vnd.databricks.v1+cell": {
     "cellMetadata": {
      "byteLimit": 2048000,
      "rowLimit": 10000
     },
     "inputWidgets": {},
     "nuid": "219bc225-71c1-49d3-b772-b461197b1a65",
     "showTitle": false,
     "title": ""
    }
   },
   "outputs": [
    {
     "name": "stdout",
     "output_type": "stream",
     "text": [
      "historical_load completed\n"
     ]
    }
   ],
   "source": [
    "if result=='table is created':\n",
    "    incremental_load(output_df)\n",
    "else:\n",
    "    historical_load()"
   ]
  },
  {
   "cell_type": "code",
   "execution_count": null,
   "metadata": {
    "application/vnd.databricks.v1+cell": {
     "cellMetadata": {
      "byteLimit": 2048000,
      "implicitDf": true,
      "rowLimit": 10000
     },
     "inputWidgets": {},
     "nuid": "99587913-62fb-4c66-89b6-edb5075919d2",
     "showTitle": false,
     "title": ""
    }
   },
   "outputs": [
    {
     "data": {
      "text/html": [
       "<style scoped>\n",
       "  .table-result-container {\n",
       "    max-height: 300px;\n",
       "    overflow: auto;\n",
       "  }\n",
       "  table, th, td {\n",
       "    border: 1px solid black;\n",
       "    border-collapse: collapse;\n",
       "  }\n",
       "  th, td {\n",
       "    padding: 5px;\n",
       "  }\n",
       "  th {\n",
       "    text-align: left;\n",
       "  }\n",
       "</style><div class='table-result-container'><table class='table-result'><thead style='background-color: white'><tr><th>empid</th><th>empname</th><th>gender</th><th>deptno</th><th>sal</th></tr></thead><tbody><tr><td>121</td><td>rajendra</td><td>M</td><td>10</td><td>50000</td></tr><tr><td>111</td><td>Krishna</td><td>M</td><td>10</td><td>40000</td></tr><tr><td>101</td><td>Prasad</td><td>M</td><td>10</td><td>25000</td></tr><tr><td>106</td><td>viswas</td><td>M</td><td>10</td><td>25000</td></tr><tr><td>116</td><td>kishore</td><td>M</td><td>10</td><td>25000</td></tr><tr><td>107</td><td>akhila</td><td>F</td><td>20</td><td>45000</td></tr><tr><td>102</td><td>Rahul</td><td>M</td><td>20</td><td>30000</td></tr><tr><td>117</td><td>Sravani</td><td>F</td><td>20</td><td>30000</td></tr><tr><td>112</td><td>ahmad</td><td>M</td><td>20</td><td>20000</td></tr><tr><td>103</td><td>aditya</td><td>M</td><td>30</td><td>40000</td></tr><tr><td>118</td><td>siva krishna</td><td>M</td><td>30</td><td>40000</td></tr><tr><td>108</td><td>prajol</td><td>M</td><td>30</td><td>35000</td></tr><tr><td>113</td><td>Anusha</td><td>F</td><td>30</td><td>30000</td></tr><tr><td>109</td><td>venu</td><td>M</td><td>40</td><td>40000</td></tr><tr><td>114</td><td>prasanth</td><td>M</td><td>40</td><td>40000</td></tr><tr><td>104</td><td>Pavani</td><td>F</td><td>40</td><td>20000</td></tr><tr><td>119</td><td>satish</td><td>M</td><td>40</td><td>20000</td></tr><tr><td>105</td><td>anupama</td><td>F</td><td>50</td><td>35000</td></tr><tr><td>120</td><td>Sunitha</td><td>F</td><td>50</td><td>25000</td></tr><tr><td>110</td><td>Sujatha</td><td>F</td><td>50</td><td>20000</td></tr><tr><td>115</td><td>aravind</td><td>M</td><td>50</td><td>20000</td></tr><tr><td>121</td><td>rajendra</td><td>M</td><td>10</td><td>50000</td></tr><tr><td>111</td><td>Krishna</td><td>M</td><td>10</td><td>40000</td></tr><tr><td>101</td><td>Prasad</td><td>M</td><td>10</td><td>25000</td></tr><tr><td>106</td><td>viswas</td><td>M</td><td>10</td><td>25000</td></tr><tr><td>116</td><td>kishore</td><td>M</td><td>10</td><td>25000</td></tr><tr><td>107</td><td>akhila</td><td>F</td><td>20</td><td>45000</td></tr><tr><td>102</td><td>Rahul</td><td>M</td><td>20</td><td>30000</td></tr><tr><td>117</td><td>Sravani</td><td>F</td><td>20</td><td>30000</td></tr><tr><td>112</td><td>ahmad</td><td>M</td><td>20</td><td>20000</td></tr><tr><td>103</td><td>aditya</td><td>M</td><td>30</td><td>40000</td></tr><tr><td>118</td><td>siva krishna</td><td>M</td><td>30</td><td>40000</td></tr><tr><td>108</td><td>prajol</td><td>M</td><td>30</td><td>35000</td></tr><tr><td>113</td><td>Anusha</td><td>F</td><td>30</td><td>30000</td></tr><tr><td>109</td><td>venu</td><td>M</td><td>40</td><td>40000</td></tr><tr><td>114</td><td>prasanth</td><td>M</td><td>40</td><td>40000</td></tr><tr><td>104</td><td>Pavani</td><td>F</td><td>40</td><td>20000</td></tr><tr><td>119</td><td>satish</td><td>M</td><td>40</td><td>20000</td></tr><tr><td>105</td><td>anupama</td><td>F</td><td>50</td><td>35000</td></tr><tr><td>120</td><td>Sunitha</td><td>F</td><td>50</td><td>25000</td></tr><tr><td>110</td><td>Sujatha</td><td>F</td><td>50</td><td>20000</td></tr><tr><td>115</td><td>aravind</td><td>M</td><td>50</td><td>20000</td></tr><tr><td>121</td><td>rajendra</td><td>M</td><td>10</td><td>50000</td></tr><tr><td>111</td><td>Krishna</td><td>M</td><td>10</td><td>40000</td></tr><tr><td>101</td><td>Prasad</td><td>M</td><td>10</td><td>25000</td></tr><tr><td>106</td><td>viswas</td><td>M</td><td>10</td><td>25000</td></tr><tr><td>116</td><td>kishore</td><td>M</td><td>10</td><td>25000</td></tr><tr><td>107</td><td>akhila</td><td>F</td><td>20</td><td>45000</td></tr><tr><td>102</td><td>Rahul</td><td>M</td><td>20</td><td>30000</td></tr><tr><td>117</td><td>Sravani</td><td>F</td><td>20</td><td>30000</td></tr><tr><td>112</td><td>ahmad</td><td>M</td><td>20</td><td>20000</td></tr><tr><td>103</td><td>aditya</td><td>M</td><td>30</td><td>40000</td></tr><tr><td>118</td><td>siva krishna</td><td>M</td><td>30</td><td>40000</td></tr><tr><td>108</td><td>prajol</td><td>M</td><td>30</td><td>35000</td></tr><tr><td>113</td><td>Anusha</td><td>F</td><td>30</td><td>30000</td></tr><tr><td>109</td><td>venu</td><td>M</td><td>40</td><td>40000</td></tr><tr><td>114</td><td>prasanth</td><td>M</td><td>40</td><td>40000</td></tr><tr><td>104</td><td>Pavani</td><td>F</td><td>40</td><td>20000</td></tr><tr><td>119</td><td>satish</td><td>M</td><td>40</td><td>20000</td></tr><tr><td>105</td><td>anupama</td><td>F</td><td>50</td><td>35000</td></tr><tr><td>120</td><td>Sunitha</td><td>F</td><td>50</td><td>25000</td></tr><tr><td>110</td><td>Sujatha</td><td>F</td><td>50</td><td>20000</td></tr><tr><td>115</td><td>aravind</td><td>M</td><td>50</td><td>20000</td></tr><tr><td>121</td><td>rajendra</td><td>M</td><td>10</td><td>50000</td></tr><tr><td>111</td><td>Krishna</td><td>M</td><td>10</td><td>40000</td></tr><tr><td>101</td><td>Prasad</td><td>M</td><td>10</td><td>25000</td></tr><tr><td>106</td><td>viswas</td><td>M</td><td>10</td><td>25000</td></tr><tr><td>116</td><td>kishore</td><td>M</td><td>10</td><td>25000</td></tr><tr><td>107</td><td>akhila</td><td>F</td><td>20</td><td>45000</td></tr><tr><td>102</td><td>Rahul</td><td>M</td><td>20</td><td>30000</td></tr><tr><td>117</td><td>Sravani</td><td>F</td><td>20</td><td>30000</td></tr><tr><td>112</td><td>ahmad</td><td>M</td><td>20</td><td>20000</td></tr><tr><td>103</td><td>aditya</td><td>M</td><td>30</td><td>40000</td></tr><tr><td>118</td><td>siva krishna</td><td>M</td><td>30</td><td>40000</td></tr><tr><td>108</td><td>prajol</td><td>M</td><td>30</td><td>35000</td></tr><tr><td>113</td><td>Anusha</td><td>F</td><td>30</td><td>30000</td></tr><tr><td>109</td><td>venu</td><td>M</td><td>40</td><td>40000</td></tr><tr><td>114</td><td>prasanth</td><td>M</td><td>40</td><td>40000</td></tr><tr><td>104</td><td>Pavani</td><td>F</td><td>40</td><td>20000</td></tr><tr><td>119</td><td>satish</td><td>M</td><td>40</td><td>20000</td></tr><tr><td>105</td><td>anupama</td><td>F</td><td>50</td><td>35000</td></tr><tr><td>120</td><td>Sunitha</td><td>F</td><td>50</td><td>25000</td></tr><tr><td>110</td><td>Sujatha</td><td>F</td><td>50</td><td>20000</td></tr><tr><td>115</td><td>aravind</td><td>M</td><td>50</td><td>20000</td></tr><tr><td>121</td><td>rajendra</td><td>M</td><td>10</td><td>50000</td></tr><tr><td>111</td><td>Krishna</td><td>M</td><td>10</td><td>40000</td></tr><tr><td>101</td><td>Prasad</td><td>M</td><td>10</td><td>25000</td></tr><tr><td>106</td><td>viswas</td><td>M</td><td>10</td><td>25000</td></tr><tr><td>116</td><td>kishore</td><td>M</td><td>10</td><td>25000</td></tr><tr><td>107</td><td>akhila</td><td>F</td><td>20</td><td>45000</td></tr><tr><td>102</td><td>Rahul</td><td>M</td><td>20</td><td>30000</td></tr><tr><td>117</td><td>Sravani</td><td>F</td><td>20</td><td>30000</td></tr><tr><td>112</td><td>ahmad</td><td>M</td><td>20</td><td>20000</td></tr><tr><td>103</td><td>aditya</td><td>M</td><td>30</td><td>40000</td></tr><tr><td>118</td><td>siva krishna</td><td>M</td><td>30</td><td>40000</td></tr><tr><td>108</td><td>prajol</td><td>M</td><td>30</td><td>35000</td></tr><tr><td>113</td><td>Anusha</td><td>F</td><td>30</td><td>30000</td></tr><tr><td>109</td><td>venu</td><td>M</td><td>40</td><td>40000</td></tr><tr><td>114</td><td>prasanth</td><td>M</td><td>40</td><td>40000</td></tr><tr><td>104</td><td>Pavani</td><td>F</td><td>40</td><td>20000</td></tr><tr><td>119</td><td>satish</td><td>M</td><td>40</td><td>20000</td></tr><tr><td>105</td><td>anupama</td><td>F</td><td>50</td><td>35000</td></tr><tr><td>120</td><td>Sunitha</td><td>F</td><td>50</td><td>25000</td></tr><tr><td>110</td><td>Sujatha</td><td>F</td><td>50</td><td>20000</td></tr><tr><td>115</td><td>aravind</td><td>M</td><td>50</td><td>20000</td></tr><tr><td>121</td><td>rajendra</td><td>M</td><td>10</td><td>50000</td></tr><tr><td>111</td><td>Krishna</td><td>M</td><td>10</td><td>40000</td></tr><tr><td>101</td><td>Prasad</td><td>M</td><td>10</td><td>25000</td></tr><tr><td>106</td><td>viswas</td><td>M</td><td>10</td><td>25000</td></tr><tr><td>116</td><td>kishore</td><td>M</td><td>10</td><td>25000</td></tr><tr><td>107</td><td>akhila</td><td>F</td><td>20</td><td>45000</td></tr><tr><td>102</td><td>Rahul</td><td>M</td><td>20</td><td>30000</td></tr><tr><td>117</td><td>Sravani</td><td>F</td><td>20</td><td>30000</td></tr><tr><td>112</td><td>ahmad</td><td>M</td><td>20</td><td>20000</td></tr><tr><td>103</td><td>aditya</td><td>M</td><td>30</td><td>40000</td></tr><tr><td>118</td><td>siva krishna</td><td>M</td><td>30</td><td>40000</td></tr><tr><td>108</td><td>prajol</td><td>M</td><td>30</td><td>35000</td></tr><tr><td>113</td><td>Anusha</td><td>F</td><td>30</td><td>30000</td></tr><tr><td>109</td><td>venu</td><td>M</td><td>40</td><td>40000</td></tr><tr><td>114</td><td>prasanth</td><td>M</td><td>40</td><td>40000</td></tr><tr><td>104</td><td>Pavani</td><td>F</td><td>40</td><td>20000</td></tr><tr><td>119</td><td>satish</td><td>M</td><td>40</td><td>20000</td></tr><tr><td>105</td><td>anupama</td><td>F</td><td>50</td><td>35000</td></tr><tr><td>120</td><td>Sunitha</td><td>F</td><td>50</td><td>25000</td></tr><tr><td>110</td><td>Sujatha</td><td>F</td><td>50</td><td>20000</td></tr><tr><td>115</td><td>aravind</td><td>M</td><td>50</td><td>20000</td></tr><tr><td>121</td><td>rajendra</td><td>M</td><td>10</td><td>50000</td></tr><tr><td>111</td><td>Krishna</td><td>M</td><td>10</td><td>40000</td></tr><tr><td>101</td><td>Prasad</td><td>M</td><td>10</td><td>25000</td></tr><tr><td>106</td><td>viswas</td><td>M</td><td>10</td><td>25000</td></tr><tr><td>116</td><td>kishore</td><td>M</td><td>10</td><td>25000</td></tr><tr><td>107</td><td>akhila</td><td>F</td><td>20</td><td>45000</td></tr><tr><td>102</td><td>Rahul</td><td>M</td><td>20</td><td>30000</td></tr><tr><td>117</td><td>Sravani</td><td>F</td><td>20</td><td>30000</td></tr><tr><td>112</td><td>ahmad</td><td>M</td><td>20</td><td>20000</td></tr><tr><td>103</td><td>aditya</td><td>M</td><td>30</td><td>40000</td></tr><tr><td>118</td><td>siva krishna</td><td>M</td><td>30</td><td>40000</td></tr><tr><td>108</td><td>prajol</td><td>M</td><td>30</td><td>35000</td></tr><tr><td>113</td><td>Anusha</td><td>F</td><td>30</td><td>30000</td></tr><tr><td>109</td><td>venu</td><td>M</td><td>40</td><td>40000</td></tr><tr><td>114</td><td>prasanth</td><td>M</td><td>40</td><td>40000</td></tr><tr><td>104</td><td>Pavani</td><td>F</td><td>40</td><td>20000</td></tr><tr><td>119</td><td>satish</td><td>M</td><td>40</td><td>20000</td></tr><tr><td>105</td><td>anupama</td><td>F</td><td>50</td><td>35000</td></tr><tr><td>120</td><td>Sunitha</td><td>F</td><td>50</td><td>25000</td></tr><tr><td>110</td><td>Sujatha</td><td>F</td><td>50</td><td>20000</td></tr><tr><td>115</td><td>aravind</td><td>M</td><td>50</td><td>20000</td></tr><tr><td>121</td><td>rajendra</td><td>M</td><td>10</td><td>50000</td></tr><tr><td>111</td><td>Krishna</td><td>M</td><td>10</td><td>40000</td></tr><tr><td>101</td><td>Prasad</td><td>M</td><td>10</td><td>25000</td></tr><tr><td>106</td><td>viswas</td><td>M</td><td>10</td><td>25000</td></tr><tr><td>116</td><td>kishore</td><td>M</td><td>10</td><td>25000</td></tr><tr><td>107</td><td>akhila</td><td>F</td><td>20</td><td>45000</td></tr><tr><td>102</td><td>Rahul</td><td>M</td><td>20</td><td>30000</td></tr><tr><td>117</td><td>Sravani</td><td>F</td><td>20</td><td>30000</td></tr><tr><td>112</td><td>ahmad</td><td>M</td><td>20</td><td>20000</td></tr><tr><td>103</td><td>aditya</td><td>M</td><td>30</td><td>40000</td></tr><tr><td>118</td><td>siva krishna</td><td>M</td><td>30</td><td>40000</td></tr><tr><td>108</td><td>prajol</td><td>M</td><td>30</td><td>35000</td></tr><tr><td>113</td><td>Anusha</td><td>F</td><td>30</td><td>30000</td></tr><tr><td>109</td><td>venu</td><td>M</td><td>40</td><td>40000</td></tr><tr><td>114</td><td>prasanth</td><td>M</td><td>40</td><td>40000</td></tr><tr><td>104</td><td>Pavani</td><td>F</td><td>40</td><td>20000</td></tr><tr><td>119</td><td>satish</td><td>M</td><td>40</td><td>20000</td></tr><tr><td>105</td><td>anupama</td><td>F</td><td>50</td><td>35000</td></tr><tr><td>120</td><td>Sunitha</td><td>F</td><td>50</td><td>25000</td></tr><tr><td>110</td><td>Sujatha</td><td>F</td><td>50</td><td>20000</td></tr><tr><td>115</td><td>aravind</td><td>M</td><td>50</td><td>20000</td></tr></tbody></table></div>"
      ]
     },
     "metadata": {
      "application/vnd.databricks.v1+output": {
       "addedWidgets": {},
       "aggData": [],
       "aggError": "",
       "aggOverflow": false,
       "aggSchema": [],
       "aggSeriesLimitReached": false,
       "aggType": "",
       "arguments": {},
       "columnCustomDisplayInfos": {},
       "data": [
        [
         "121",
         "rajendra",
         "M",
         "10",
         "50000"
        ],
        [
         "111",
         "Krishna",
         "M",
         "10",
         "40000"
        ],
        [
         "101",
         "Prasad",
         "M",
         "10",
         "25000"
        ],
        [
         "106",
         "viswas",
         "M",
         "10",
         "25000"
        ],
        [
         "116",
         "kishore",
         "M",
         "10",
         "25000"
        ],
        [
         "107",
         "akhila",
         "F",
         "20",
         "45000"
        ],
        [
         "102",
         "Rahul",
         "M",
         "20",
         "30000"
        ],
        [
         "117",
         "Sravani",
         "F",
         "20",
         "30000"
        ],
        [
         "112",
         "ahmad",
         "M",
         "20",
         "20000"
        ],
        [
         "103",
         "aditya",
         "M",
         "30",
         "40000"
        ],
        [
         "118",
         "siva krishna",
         "M",
         "30",
         "40000"
        ],
        [
         "108",
         "prajol",
         "M",
         "30",
         "35000"
        ],
        [
         "113",
         "Anusha",
         "F",
         "30",
         "30000"
        ],
        [
         "109",
         "venu",
         "M",
         "40",
         "40000"
        ],
        [
         "114",
         "prasanth",
         "M",
         "40",
         "40000"
        ],
        [
         "104",
         "Pavani",
         "F",
         "40",
         "20000"
        ],
        [
         "119",
         "satish",
         "M",
         "40",
         "20000"
        ],
        [
         "105",
         "anupama",
         "F",
         "50",
         "35000"
        ],
        [
         "120",
         "Sunitha",
         "F",
         "50",
         "25000"
        ],
        [
         "110",
         "Sujatha",
         "F",
         "50",
         "20000"
        ],
        [
         "115",
         "aravind",
         "M",
         "50",
         "20000"
        ],
        [
         "121",
         "rajendra",
         "M",
         "10",
         "50000"
        ],
        [
         "111",
         "Krishna",
         "M",
         "10",
         "40000"
        ],
        [
         "101",
         "Prasad",
         "M",
         "10",
         "25000"
        ],
        [
         "106",
         "viswas",
         "M",
         "10",
         "25000"
        ],
        [
         "116",
         "kishore",
         "M",
         "10",
         "25000"
        ],
        [
         "107",
         "akhila",
         "F",
         "20",
         "45000"
        ],
        [
         "102",
         "Rahul",
         "M",
         "20",
         "30000"
        ],
        [
         "117",
         "Sravani",
         "F",
         "20",
         "30000"
        ],
        [
         "112",
         "ahmad",
         "M",
         "20",
         "20000"
        ],
        [
         "103",
         "aditya",
         "M",
         "30",
         "40000"
        ],
        [
         "118",
         "siva krishna",
         "M",
         "30",
         "40000"
        ],
        [
         "108",
         "prajol",
         "M",
         "30",
         "35000"
        ],
        [
         "113",
         "Anusha",
         "F",
         "30",
         "30000"
        ],
        [
         "109",
         "venu",
         "M",
         "40",
         "40000"
        ],
        [
         "114",
         "prasanth",
         "M",
         "40",
         "40000"
        ],
        [
         "104",
         "Pavani",
         "F",
         "40",
         "20000"
        ],
        [
         "119",
         "satish",
         "M",
         "40",
         "20000"
        ],
        [
         "105",
         "anupama",
         "F",
         "50",
         "35000"
        ],
        [
         "120",
         "Sunitha",
         "F",
         "50",
         "25000"
        ],
        [
         "110",
         "Sujatha",
         "F",
         "50",
         "20000"
        ],
        [
         "115",
         "aravind",
         "M",
         "50",
         "20000"
        ],
        [
         "121",
         "rajendra",
         "M",
         "10",
         "50000"
        ],
        [
         "111",
         "Krishna",
         "M",
         "10",
         "40000"
        ],
        [
         "101",
         "Prasad",
         "M",
         "10",
         "25000"
        ],
        [
         "106",
         "viswas",
         "M",
         "10",
         "25000"
        ],
        [
         "116",
         "kishore",
         "M",
         "10",
         "25000"
        ],
        [
         "107",
         "akhila",
         "F",
         "20",
         "45000"
        ],
        [
         "102",
         "Rahul",
         "M",
         "20",
         "30000"
        ],
        [
         "117",
         "Sravani",
         "F",
         "20",
         "30000"
        ],
        [
         "112",
         "ahmad",
         "M",
         "20",
         "20000"
        ],
        [
         "103",
         "aditya",
         "M",
         "30",
         "40000"
        ],
        [
         "118",
         "siva krishna",
         "M",
         "30",
         "40000"
        ],
        [
         "108",
         "prajol",
         "M",
         "30",
         "35000"
        ],
        [
         "113",
         "Anusha",
         "F",
         "30",
         "30000"
        ],
        [
         "109",
         "venu",
         "M",
         "40",
         "40000"
        ],
        [
         "114",
         "prasanth",
         "M",
         "40",
         "40000"
        ],
        [
         "104",
         "Pavani",
         "F",
         "40",
         "20000"
        ],
        [
         "119",
         "satish",
         "M",
         "40",
         "20000"
        ],
        [
         "105",
         "anupama",
         "F",
         "50",
         "35000"
        ],
        [
         "120",
         "Sunitha",
         "F",
         "50",
         "25000"
        ],
        [
         "110",
         "Sujatha",
         "F",
         "50",
         "20000"
        ],
        [
         "115",
         "aravind",
         "M",
         "50",
         "20000"
        ],
        [
         "121",
         "rajendra",
         "M",
         "10",
         "50000"
        ],
        [
         "111",
         "Krishna",
         "M",
         "10",
         "40000"
        ],
        [
         "101",
         "Prasad",
         "M",
         "10",
         "25000"
        ],
        [
         "106",
         "viswas",
         "M",
         "10",
         "25000"
        ],
        [
         "116",
         "kishore",
         "M",
         "10",
         "25000"
        ],
        [
         "107",
         "akhila",
         "F",
         "20",
         "45000"
        ],
        [
         "102",
         "Rahul",
         "M",
         "20",
         "30000"
        ],
        [
         "117",
         "Sravani",
         "F",
         "20",
         "30000"
        ],
        [
         "112",
         "ahmad",
         "M",
         "20",
         "20000"
        ],
        [
         "103",
         "aditya",
         "M",
         "30",
         "40000"
        ],
        [
         "118",
         "siva krishna",
         "M",
         "30",
         "40000"
        ],
        [
         "108",
         "prajol",
         "M",
         "30",
         "35000"
        ],
        [
         "113",
         "Anusha",
         "F",
         "30",
         "30000"
        ],
        [
         "109",
         "venu",
         "M",
         "40",
         "40000"
        ],
        [
         "114",
         "prasanth",
         "M",
         "40",
         "40000"
        ],
        [
         "104",
         "Pavani",
         "F",
         "40",
         "20000"
        ],
        [
         "119",
         "satish",
         "M",
         "40",
         "20000"
        ],
        [
         "105",
         "anupama",
         "F",
         "50",
         "35000"
        ],
        [
         "120",
         "Sunitha",
         "F",
         "50",
         "25000"
        ],
        [
         "110",
         "Sujatha",
         "F",
         "50",
         "20000"
        ],
        [
         "115",
         "aravind",
         "M",
         "50",
         "20000"
        ],
        [
         "121",
         "rajendra",
         "M",
         "10",
         "50000"
        ],
        [
         "111",
         "Krishna",
         "M",
         "10",
         "40000"
        ],
        [
         "101",
         "Prasad",
         "M",
         "10",
         "25000"
        ],
        [
         "106",
         "viswas",
         "M",
         "10",
         "25000"
        ],
        [
         "116",
         "kishore",
         "M",
         "10",
         "25000"
        ],
        [
         "107",
         "akhila",
         "F",
         "20",
         "45000"
        ],
        [
         "102",
         "Rahul",
         "M",
         "20",
         "30000"
        ],
        [
         "117",
         "Sravani",
         "F",
         "20",
         "30000"
        ],
        [
         "112",
         "ahmad",
         "M",
         "20",
         "20000"
        ],
        [
         "103",
         "aditya",
         "M",
         "30",
         "40000"
        ],
        [
         "118",
         "siva krishna",
         "M",
         "30",
         "40000"
        ],
        [
         "108",
         "prajol",
         "M",
         "30",
         "35000"
        ],
        [
         "113",
         "Anusha",
         "F",
         "30",
         "30000"
        ],
        [
         "109",
         "venu",
         "M",
         "40",
         "40000"
        ],
        [
         "114",
         "prasanth",
         "M",
         "40",
         "40000"
        ],
        [
         "104",
         "Pavani",
         "F",
         "40",
         "20000"
        ],
        [
         "119",
         "satish",
         "M",
         "40",
         "20000"
        ],
        [
         "105",
         "anupama",
         "F",
         "50",
         "35000"
        ],
        [
         "120",
         "Sunitha",
         "F",
         "50",
         "25000"
        ],
        [
         "110",
         "Sujatha",
         "F",
         "50",
         "20000"
        ],
        [
         "115",
         "aravind",
         "M",
         "50",
         "20000"
        ],
        [
         "121",
         "rajendra",
         "M",
         "10",
         "50000"
        ],
        [
         "111",
         "Krishna",
         "M",
         "10",
         "40000"
        ],
        [
         "101",
         "Prasad",
         "M",
         "10",
         "25000"
        ],
        [
         "106",
         "viswas",
         "M",
         "10",
         "25000"
        ],
        [
         "116",
         "kishore",
         "M",
         "10",
         "25000"
        ],
        [
         "107",
         "akhila",
         "F",
         "20",
         "45000"
        ],
        [
         "102",
         "Rahul",
         "M",
         "20",
         "30000"
        ],
        [
         "117",
         "Sravani",
         "F",
         "20",
         "30000"
        ],
        [
         "112",
         "ahmad",
         "M",
         "20",
         "20000"
        ],
        [
         "103",
         "aditya",
         "M",
         "30",
         "40000"
        ],
        [
         "118",
         "siva krishna",
         "M",
         "30",
         "40000"
        ],
        [
         "108",
         "prajol",
         "M",
         "30",
         "35000"
        ],
        [
         "113",
         "Anusha",
         "F",
         "30",
         "30000"
        ],
        [
         "109",
         "venu",
         "M",
         "40",
         "40000"
        ],
        [
         "114",
         "prasanth",
         "M",
         "40",
         "40000"
        ],
        [
         "104",
         "Pavani",
         "F",
         "40",
         "20000"
        ],
        [
         "119",
         "satish",
         "M",
         "40",
         "20000"
        ],
        [
         "105",
         "anupama",
         "F",
         "50",
         "35000"
        ],
        [
         "120",
         "Sunitha",
         "F",
         "50",
         "25000"
        ],
        [
         "110",
         "Sujatha",
         "F",
         "50",
         "20000"
        ],
        [
         "115",
         "aravind",
         "M",
         "50",
         "20000"
        ],
        [
         "121",
         "rajendra",
         "M",
         "10",
         "50000"
        ],
        [
         "111",
         "Krishna",
         "M",
         "10",
         "40000"
        ],
        [
         "101",
         "Prasad",
         "M",
         "10",
         "25000"
        ],
        [
         "106",
         "viswas",
         "M",
         "10",
         "25000"
        ],
        [
         "116",
         "kishore",
         "M",
         "10",
         "25000"
        ],
        [
         "107",
         "akhila",
         "F",
         "20",
         "45000"
        ],
        [
         "102",
         "Rahul",
         "M",
         "20",
         "30000"
        ],
        [
         "117",
         "Sravani",
         "F",
         "20",
         "30000"
        ],
        [
         "112",
         "ahmad",
         "M",
         "20",
         "20000"
        ],
        [
         "103",
         "aditya",
         "M",
         "30",
         "40000"
        ],
        [
         "118",
         "siva krishna",
         "M",
         "30",
         "40000"
        ],
        [
         "108",
         "prajol",
         "M",
         "30",
         "35000"
        ],
        [
         "113",
         "Anusha",
         "F",
         "30",
         "30000"
        ],
        [
         "109",
         "venu",
         "M",
         "40",
         "40000"
        ],
        [
         "114",
         "prasanth",
         "M",
         "40",
         "40000"
        ],
        [
         "104",
         "Pavani",
         "F",
         "40",
         "20000"
        ],
        [
         "119",
         "satish",
         "M",
         "40",
         "20000"
        ],
        [
         "105",
         "anupama",
         "F",
         "50",
         "35000"
        ],
        [
         "120",
         "Sunitha",
         "F",
         "50",
         "25000"
        ],
        [
         "110",
         "Sujatha",
         "F",
         "50",
         "20000"
        ],
        [
         "115",
         "aravind",
         "M",
         "50",
         "20000"
        ],
        [
         "121",
         "rajendra",
         "M",
         "10",
         "50000"
        ],
        [
         "111",
         "Krishna",
         "M",
         "10",
         "40000"
        ],
        [
         "101",
         "Prasad",
         "M",
         "10",
         "25000"
        ],
        [
         "106",
         "viswas",
         "M",
         "10",
         "25000"
        ],
        [
         "116",
         "kishore",
         "M",
         "10",
         "25000"
        ],
        [
         "107",
         "akhila",
         "F",
         "20",
         "45000"
        ],
        [
         "102",
         "Rahul",
         "M",
         "20",
         "30000"
        ],
        [
         "117",
         "Sravani",
         "F",
         "20",
         "30000"
        ],
        [
         "112",
         "ahmad",
         "M",
         "20",
         "20000"
        ],
        [
         "103",
         "aditya",
         "M",
         "30",
         "40000"
        ],
        [
         "118",
         "siva krishna",
         "M",
         "30",
         "40000"
        ],
        [
         "108",
         "prajol",
         "M",
         "30",
         "35000"
        ],
        [
         "113",
         "Anusha",
         "F",
         "30",
         "30000"
        ],
        [
         "109",
         "venu",
         "M",
         "40",
         "40000"
        ],
        [
         "114",
         "prasanth",
         "M",
         "40",
         "40000"
        ],
        [
         "104",
         "Pavani",
         "F",
         "40",
         "20000"
        ],
        [
         "119",
         "satish",
         "M",
         "40",
         "20000"
        ],
        [
         "105",
         "anupama",
         "F",
         "50",
         "35000"
        ],
        [
         "120",
         "Sunitha",
         "F",
         "50",
         "25000"
        ],
        [
         "110",
         "Sujatha",
         "F",
         "50",
         "20000"
        ],
        [
         "115",
         "aravind",
         "M",
         "50",
         "20000"
        ]
       ],
       "datasetInfos": [],
       "dbfsResultPath": null,
       "isJsonSchema": true,
       "metadata": {
        "dataframeName": "_sqldf",
        "executionCount": 41
       },
       "overflow": false,
       "plotOptions": {
        "customPlotOptions": {},
        "displayType": "table",
        "pivotAggregation": null,
        "pivotColumns": null,
        "xColumns": null,
        "yColumns": null
       },
       "removedWidgets": [],
       "schema": [
        {
         "metadata": "{}",
         "name": "empid",
         "type": "\"string\""
        },
        {
         "metadata": "{}",
         "name": "empname",
         "type": "\"string\""
        },
        {
         "metadata": "{}",
         "name": "gender",
         "type": "\"string\""
        },
        {
         "metadata": "{}",
         "name": "deptno",
         "type": "\"string\""
        },
        {
         "metadata": "{}",
         "name": "sal",
         "type": "\"string\""
        }
       ],
       "type": "table"
      }
     },
     "output_type": "display_data"
    }
   ],
   "source": [
    "%sql\n",
    "select * from fthinsurance_customer_detail"
   ]
  },
  {
   "cell_type": "code",
   "execution_count": null,
   "metadata": {
    "application/vnd.databricks.v1+cell": {
     "cellMetadata": {},
     "inputWidgets": {},
     "nuid": "ff34a4ec-1ec3-4e69-bed8-ad28d3b0af85",
     "showTitle": false,
     "title": ""
    }
   },
   "outputs": [],
   "source": []
  }
 ],
 "metadata": {
  "application/vnd.databricks.v1+notebook": {
   "dashboards": [],
   "environmentMetadata": null,
   "language": "python",
   "notebookMetadata": {
    "mostRecentlyExecutedCommandWithImplicitDF": {
     "commandId": 2397484867174342,
     "dataframes": [
      "_sqldf"
     ]
    },
    "pythonIndentUnit": 4
   },
   "notebookName": "Untitled Notebook 2024-05-30 11:53:38",
   "widgets": {}
  },
  "language_info": {
   "name": "python"
  }
 },
 "nbformat": 4,
 "nbformat_minor": 0
}
